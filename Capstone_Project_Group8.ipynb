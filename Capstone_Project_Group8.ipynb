{
  "nbformat": 4,
  "nbformat_minor": 0,
  "metadata": {
    "colab": {
      "provenance": [],
      "mount_file_id": "1jcFSYT3axDyh7qVPAHaR_cy7fWTRRJa8",
      "authorship_tag": "ABX9TyMX3dJxJStQZeBvoA1ag9Bd",
      "include_colab_link": true
    },
    "kernelspec": {
      "name": "python3",
      "display_name": "Python 3"
    },
    "language_info": {
      "name": "python"
    }
  },
  "cells": [
    {
      "cell_type": "markdown",
      "metadata": {
        "id": "view-in-github",
        "colab_type": "text"
      },
      "source": [
        "<a href=\"https://colab.research.google.com/github/croco22/CapstoneProjectTDS/blob/main/Capstone_Project_Group8.ipynb\" target=\"_parent\"><img src=\"https://colab.research.google.com/assets/colab-badge.svg\" alt=\"Open In Colab\"/></a>"
      ]
    },
    {
      "cell_type": "markdown",
      "source": [
        "# Capstone Project: Questionnaires"
      ],
      "metadata": {
        "id": "08r_8_xsdHfG"
      }
    },
    {
      "cell_type": "code",
      "source": [
        "import google.generativeai as genai\n",
        "import json\n",
        "import time\n",
        "from google.colab import userdata\n",
        "from google.colab import drive\n",
        "\n",
        "drive.mount('/content/drive/')\n",
        "\n",
        "key = userdata.get('GOOGLE_API_KEY')\n",
        "\n",
        "genai.configure(api_key=key)\n",
        "\n",
        "ai_model = genai.GenerativeModel(\"gemini-1.5-flash\")"
      ],
      "metadata": {
        "colab": {
          "base_uri": "https://localhost:8080/"
        },
        "id": "jgaZ4x_pZ2JI",
        "outputId": "1a221202-e140-4bbe-9740-1bf4bbf49b4c"
      },
      "execution_count": 1,
      "outputs": [
        {
          "output_type": "stream",
          "name": "stdout",
          "text": [
            "Drive already mounted at /content/drive/; to attempt to forcibly remount, call drive.mount(\"/content/drive/\", force_remount=True).\n"
          ]
        }
      ]
    },
    {
      "cell_type": "code",
      "source": [
        "with open('/content/drive/MyDrive/SnapaddyQuestionnaires/questionnaire1.json', 'r', encoding='utf-8') as f:\n",
        "    data1 = json.load(f)"
      ],
      "metadata": {
        "id": "1FIjyST2by5C"
      },
      "execution_count": 2,
      "outputs": []
    },
    {
      "cell_type": "code",
      "execution_count": 3,
      "metadata": {
        "id": "xQdppMZmZv4W"
      },
      "outputs": [],
      "source": [
        "def process_json(data):\n",
        "    \"\"\"Verarbeitet die JSON-Daten und fügt Antworten hinzu.\"\"\"\n",
        "    for item in data:\n",
        "        if 'options' in item:\n",
        "            for option in item['options']:\n",
        "                response_text = generate_answer(item['question'], option['option'])\n",
        "                if response_text:\n",
        "                    answer_list = response_text.split(\";\")\n",
        "                    option['text'] = answer_list\n",
        "                    print(response_text)\n",
        "                    time.sleep(5)\n",
        "    return data\n",
        "\n",
        "\n",
        "def generate_answer(question, option):\n",
        "    \"\"\"Generiert eine Antwort auf eine Frage basierend auf der Option.\"\"\"\n",
        "    prompt = f\"\"\"\n",
        "    You are the user of an app and you are responding in a natural way to the following question.\n",
        "    You are a storyteller that likes to talk so you don't just say yes or no but rather a whole sentence:\n",
        "    Question: \"{question}\"\n",
        "    Your answer should contain following content (e.g. if the content of the answer is yes, you convey this in your response):\n",
        "    Content of the answer: \"{option}\"\n",
        "    The responses should be in the following format and be kind of random so that each answer is different in style. Generate 5 answers in a list.\n",
        "    answer1; answer2; ...; answer5\n",
        "    \"\"\"\n",
        "    try:\n",
        "        response = ai_model.generate_content(prompt)\n",
        "        return response.text.strip()\n",
        "    except Exception as e:\n",
        "        print(f\"Fehler bei der Generierung: {e}\")\n",
        "        return None"
      ]
    },
    {
      "cell_type": "code",
      "source": [
        "processed_data = process_json(data1)"
      ],
      "metadata": {
        "id": "uaGLow0_NNHw",
        "outputId": "1345e907-d81a-4f25-bf93-6a7cef3b4eab",
        "colab": {
          "base_uri": "https://localhost:8080/",
          "height": 818
        }
      },
      "execution_count": 4,
      "outputs": [
        {
          "output_type": "stream",
          "name": "stdout",
          "text": [
            "1. Oh, absolutely!  Data processing consent?  Sign me up! I'm all for the responsible use of my information, especially if it helps craft even more captivating stories. ; 2. Yes, I wholeheartedly agree to the data processing consent.  Consider it done!  After all, a bit of data magic is what fuels my creative engine. ; 3.  You betcha!  Data processing consent is a-okay with me.  I'm always happy to contribute to the advancement of storytelling technology, as long as it's done ethically, of course. ; 4.  Yes, I give my enthusiastic consent for data processing.  Let's create some amazing narratives together –  the more information, the better the tales! ; 5.  Certainly! Data processing consent?  Why yes, yes indeed! It’s all part of the exciting journey of crafting unforgettable stories, and I’m happy to be a part of it.\n",
            "*Oh, data processing consent?  Well, no, I'm not comfortable with that at this time, thank you.*;  *Regarding data processing consent, I'm going to have to politely decline, I'm afraid.  I prefer to keep my information close to the vest, you see.*; *No, I'd rather not give my consent for data processing – it sounds a bit too… intrusive for my liking, if you don't mind my saying so.*; *Data processing consent?  Hmm, no, not today.  I've got a bit of a policy about sharing my personal information willy-nilly, you understand.*; *While I appreciate the offer, I'm going to have to say no to data processing consent. I have quite a few stories about why I'm so cautious about that sort of thing!*\n",
            "Ah, yes, the customer group... well, let me tell you a tale!  It's all about the end users, the folks who actually get their hands dirty with the product, the unsung heroes who make it all worthwhile; answer1; Oh, the customer group?  In a word, End User.  They're the reason we do what we do, the very heart of the matter, the driving force behind our creative endeavors; answer2;  If you're asking about the customer group, my dear friend, then I must say, it's primarily composed of the end users – the people who interact directly with the software, the ones whose experiences shape our future development!; answer3;  Considering the customer group...  It's all about the end users, you see. They're the ones painting the picture of our product's success, one brushstroke of feedback at a time; answer4;  When you ask about the customer group, a whole world unfolds! It's a vibrant tapestry woven with the threads of countless end users, each contributing their own unique experience to the grand narrative of our app's journey; answer5\n",
            "1. Oh, definitely!  My customer base primarily consists of wholesalers and distributors, you see, they handle the bulk of my fantastical storytelling wares. ; 2.  Well, let me tell you a tale of my clientele... it's a thrilling saga involving many a wholesaler and quite a few distributors, all eager for my next captivating collection of narratives! ; 3.  To answer your query about my customer group, I'd say the main players in my market are wholesalers and distributors, a crucial part of the story of my success! ; 4.  Absolutely!  My stories fly off the shelves (metaphorically, of course!) thanks to the tireless efforts of my wonderful network of wholesalers and distributors – they're the true heroes of this tale! ; 5.  You want to know who buys my captivating yarns?  Why, it's a colourful cast of characters, but primarily it's wholesalers and distributors who are instrumental in getting my stories out to the world.\n",
            "Oh, the customer group?  Well, let me tell you, it's a fascinating mix! We've got consultants, planners, and architects all working together, a true powerhouse of creative minds.;  Our clientele is primarily composed of consultants, planners, and architects; they're the dream team, really.; That's a great question!  The core of our user base consists of consultants, planners, and architects – a very discerning and detail-oriented bunch, I must say.;  If you're curious about who uses our app, the big players are consultants, planners, and architects – the folks who shape the world, one blueprint at a time.;  You're asking about our customer base?  Why, it's a vibrant community of consultants, planners, and architects, each bringing their unique expertise to the table, it's quite impressive!\n",
            "Ah, the customer group!  Well, let me tell you a tale of innovation and late-night coding sessions... it's primarily the R&D team, the brilliant minds behind the magic, you see.;  It's all about the R&D folks; they're the ones driving the engine of progress, if you know what I mean.; Oh, the customer group?  That's mostly the Research and Development department, the wizards who make the impossible, possible!;  The primary group interacting with customers on the strategic level is, without a doubt, our Research & Development team – they’re deeply involved in understanding the needs that drive our products.;  To be precise, the customer group is predominantly comprised of our dedicated Research and Development department; their insights are invaluable in shaping the future of our offerings.\n",
            "Oh, I'm absolutely fascinated by MY-SYSTEM; it's a whole world of possibilities, really. ;  Well, let me tell you, I'm quite taken with MY-SYSTEM, it's the bee's knees, if you ask me! ;  MY-SYSTEM is definitely high on my list of interesting products;  I've been following its development with great enthusiasm. ;  You know, I have to say, I'm intrigued by MY-SYSTEM, its potential applications are simply endless, I could talk about it for hours! ;  If you're asking about products that capture my imagination, MY-SYSTEM springs immediately to mind – a truly remarkable piece of technology.\n",
            "Oh, Notion is definitely on my list of favorites!;  Well, let me tell you, I'm quite enamored with Notion, it's a productivity powerhouse!;  I've been singing Notion's praises to anyone who will listen, it's truly amazing!;  Amongst my many digital companions, Notion holds a special place in my heart;  Yes, I'm completely hooked on Notion, it's changed the way I organize my stories and ideas!\n",
            "1. Oh, absolutely!  I'm particularly captivated by the JTS product line; their innovative designs always spark my imagination, leading to countless story ideas! ; 2.  Well, if you're asking about products that pique my interest, I'd have to say JTS is definitely at the top of the list – their work is just incredibly inspiring for a storyteller like myself. ; 3. JTS?  Yes, indeed!  In fact, I'm completely enthralled by their latest release; it's given me the perfect seed for my next epic tale. ; 4.  You bet! I'm completely hooked on everything JTS puts out.  Their products are not just tools, they're portals to other worlds, each one a potential starting point for a new adventure in my storytelling. ; 5.  My current obsession?  It's gotta be JTS.  Their products are an absolute treasure trove of inspiration, constantly fueling my creative fires and providing endless possibilities for captivating narratives.\n",
            "Oh, I'm absolutely fascinated by the JS EcoLine, it sounds like a marvel of engineering and sustainability, I'd love to hear more!;  I have to say, the JS EcoLine is definitely on my list of products to explore further, it piques my interest greatly;  Well, if you're asking about products that catch my eye, then the JS EcoLine certainly does, its innovative design is quite captivating; My current obsession?  It's gotta be the JS EcoLine –  I'm practically buzzing with anticipation to learn more about its features!;  Let me tell you,  the JS EcoLine has captured my imagination –  I'm practically writing a short story about it in my head already!\n",
            "Oh, you want to know what catches my eye?  Well, let me tell you, I've been absolutely captivated by the AKW100 lately; it's a real gem!; I'm quite fascinated by the AKW100, to be honest;  My current obsession?  It has to be the AKW100;  Definitely the AKW100, it's been calling my name!;  The AKW100 has my full attention right now, it's simply marvelous!\n",
            "Oh, I'm absolutely captivated by the AX100, its sleek design and innovative features are simply enchanting!;  I've been eyeing the AX100 for ages, it's the top of my wishlist, you know?;  Well, if you're asking about my product interests, the AX100 definitely springs to mind – I've been doing a lot of research on it!;  Let me tell you, the AX100 is the star of the show for me; it's got me completely hooked!;  My current obsession?  It's got to be the AX100, I can't stop thinking about all the possibilities it offers!\n",
            "1. Oh, there's definitely a follow-up planned!  I'm expecting a comprehensive email summarizing everything discussed, brimming with juicy details, I hope. ; 2.  An email is in the works, I believe; they promised to send a follow-up email with all the important information and a link to that amazing video we talked about.  ; 3.  Well, let me see...yes, a follow up is coming, I anticipate receiving an email outlining the next steps – hopefully with some pretty graphics included! ; 4.  As far as I understand, they're sending out a detailed email follow-up, a real treasure trove of information I'm sure.  I can't wait to delve into it! ; 5.  Regarding follow-up plans?  Why, yes! I'm eagerly awaiting an email; they promised to send one to everyone outlining the next stage of the project and, fingers crossed, the date of that celebratory pizza party.\n",
            "Oh, there's a phone call planned to discuss everything further, I'm really looking forward to it!;  We'll be following up with a good old-fashioned phone conversation to delve into the details; A phone call is in the works to clear up any lingering questions, that's the plan!;  The next step involves a phone consultation;  Expect a phone call soon – that's how we'll be proceeding!\n",
            "Oh, I'm so glad you asked!  We're planning to schedule a visit to really get a feel for things and make sure everything is perfectly aligned.;  A follow-up visit is definitely in the works, we'll be scheduling that soon to ensure we're all on the same page.;  Absolutely!  Scheduling a visit is the next step in the process, it's a crucial part of moving forward.;  To make sure everything's running smoothly, we're going to schedule a visit -  I'm really looking forward to it!;  Yes, indeed!  We're planning a visit; it's the best way to iron out the details and build a stronger understanding.\n",
            "*Well, as far as follow-up goes, there's absolutely nothing planned at the moment, it's a complete standstill, if you will.*;  Oh, there's no follow-up action scheduled; we're leaving it as is for now.;  Regarding further action, the plan is to simply observe and wait; no additional steps are currently anticipated.;  Nope, we're not doing anything else on this front; it's a case of 'job done' and moving on to other things.;  Currently, we've decided against any further intervention; it's a quiet rest for this particular project, if you understand.\n",
            "1. Oh, definitely Stephan Maier; he's the one who needs to be kept in the loop on this, wouldn't you agree?  He's deeply involved in this project, you see.\n",
            "\n",
            "2.  Let's loop in Stephan Maier on this follow-up, shall we? I think his input will be invaluable moving forward.  It wouldn't be complete without him!\n",
            "\n",
            "3.  Stephan Maier should absolutely be copied in on this;  it's crucial he's aware of all the developments.  Otherwise, we risk overlooking something vital, you know.\n",
            "\n",
            "4.  For this follow-up, I'd suggest including Stephan Maier in the communication. He's a key player, and his insights are always incredibly helpful to the whole process.\n",
            "\n",
            "5.  You know, I think Stephan Maier is the perfect person to keep in the picture on this follow-up. It's vital to have his perspective and experience on board! It's essential for success.\n",
            "Oh, for the follow-up, definitely Joachim Wagner;  I wouldn't want to leave him out of the loop, he's deeply invested in this project. ;  Let's loop in Joachim Wagner on this next step, his insights are invaluable. ;  Absolutely, Joachim Wagner needs to be copied – he's the key player here and should stay informed. ;  For sure, add Joachim Wagner to the CC list; his perspective will be crucial for the next stage. ;  Yes, please include Joachim Wagner in the follow-up email;  it's important he's kept in the know about our progress.\n",
            "1. Oh, definitely Erik Schneider! He's the one who needs to be looped in on this, wouldn't want him missing out on these juicy details, now would we?; 2.  Let's keep Erik Schneider in the loop on this one;  he's deeply involved and needs to see the follow up. ; 3.  You absolutely should copy Erik Schneider – he's been eagerly awaiting this update, I'm sure!; 4.  For this follow up, I'd recommend including Erik Schneider; his input is invaluable at this stage.; 5.  Erik Schneider is the key player here – definitely add him to the email chain for this next step!  We want to ensure he's fully informed.\n",
            "*Oh, definitely Oliver Eibel!  He's the one who needs to be looped in on this, wouldn't you agree?* ;  *Let's keep Oliver Eibel in the loop on this one – he's got a crucial perspective to add.* ; *In terms of who should be copied on the follow-up, I'd say we absolutely have to include Oliver Eibel; it's essential for the project's progress.* ; *I'm thinking Oliver Eibel should be in the CC field for this follow-up – his input will be invaluable.* ; *Absolutely, let's make sure to copy Oliver Eibel on this – I think he'll appreciate the update and maybe even have some brilliant insights to share!*\n",
            "Oh, definitely Angelina Haug, she's got the most relevant experience with this particular project and her input would be invaluable for the follow-up.;  Let's loop in Angelina Haug –  she's been instrumental in similar situations and her insights are always spot-on.; I'd say Angelina Haug is the perfect person to keep in the loop; her knowledge is crucial for ensuring a smooth follow-up.;  Absolutely, Angelina Haug needs to be copied; she's the key player we need to get this moving forward and get her fabulous perspective.;  For a comprehensive follow-up, I wholeheartedly recommend including Angelina Haug – she’s got a unique understanding of the situation and will likely have some very helpful ideas.\n",
            "Oh, definitely Marisa Peng; she's the key player in this whole shebang, wouldn't want to leave her out of the loop!;  Let's loop in Marisa Peng, she needs to be kept abreast of this development.;  Marisa Peng is the one, I'd say, she's got the inside track on this and should definitely be copied; Absolutely, Marisa Peng is the right person for this follow-up, her expertise is invaluable;  I think we should include Marisa Peng in this; she's been so helpful throughout.\n",
            "Ah, yes, the follow-up!  Definitely need to loop in Johannes Wagner on this one; answer1;  Oh, absolutely!  Johannes Wagner should be included in the next correspondence, wouldn't you agree?; answer2;  For this particular follow-up, I'd recommend adding Johannes Wagner to the recipient list; he's crucial to this next step.; answer3;  You know,  I think Johannes Wagner needs to be copied on this – his expertise is invaluable for what comes next.; answer4;  To ensure Johannes Wagner is kept in the loop and informed about the progress, let's copy him on this follow-up email.; answer5\n",
            "Oh, definitely Jessica Hanke should be in the loop on this follow-up; she's got all the key context. ;  For this follow-up, I'd suggest including Jessica Hanke – she's the one who'll really appreciate the update. ;  Let's make sure we keep Jessica Hanke informed;  a copy to her would be fantastic, I think. ;  Absolutely, add Jessica Hanke to the follow-up email – she's deeply involved in this project. ;  To ensure everyone's on the same page, I'd recommend copying Jessica Hanke on this follow-up correspondence.\n",
            "Oh, definitely Sandro Kalter should be in the loop on this follow-up; he's got the key insights we need. ;  I'd say we absolutely need to loop Sandro Kalter in on this, his expertise is invaluable for this next step. ;  For this follow-up, Sandro Kalter is the person I'd recommend copying; his input is essential to progress. ;  To ensure a comprehensive follow-up, let's make sure to include Sandro Kalter; his perspective will be crucial. ;  Without a doubt, Sandro Kalter needs to be copied on this follow-up – we need his brilliant mind on this!\n",
            "1. Oh, definitely Jens Roschmann; he's the key player on this, wouldn't want to leave him out of the loop, you know?  He needs to be kept in the know for sure.\n",
            "\n",
            "2.  Let's loop in Jens Roschmann on this follow-up – his insight is invaluable, and he'll probably have some brilliant ideas to add.\n",
            "\n",
            "3.  Absolutely, Jens Roschmann should be copied – he’s intimately involved with this project and needs to see the updates.  It's essential for transparency.\n",
            "\n",
            "4.  Well, considering the complexities, I think Jens Roschmann is the person who needs to be in the CC field.  He'll have the most relevant context for a productive follow-up.\n",
            "\n",
            "5.  For a comprehensive and effective follow-up, I'd suggest including Jens Roschmann in the correspondence;  he's been central to the planning and execution, and needs to stay updated.\n",
            "1. Oh, definitely Domiki Stein should be in the loop for the follow-up; she's got the crucial context on this project, you know. ; 2.  Let's loop in Domiki Stein on this next step – I think her insights will be invaluable.  Wouldn't want to leave her out of the picture! ; 3.  For the follow-up,  Domiki Stein is the person who springs to mind immediately; she's been deeply involved and deserves to stay informed. ; 4.  You absolutely must include Domiki Stein in the follow-up; she's a key player and needs to be kept abreast of all developments.  It's essential, really. ; 5.  Well, to ensure everything is perfectly coordinated, I'd suggest adding Domiki Stein to the follow-up email chain. She's a vital part of the team on this one.\n",
            "Ah, the follow-up!  Let's loop in Sean Kennin on this one, he'll be crucial to keeping things moving.;  Oh yes, definitely Sean Kennin needs to be in the loop for this next step;  For this particular follow-up, I'd say Sean Kennin is the person you absolutely must copy;  To ensure everyone's on the same page, we should definitely include Sean Kennin in this follow-up email;  Without a doubt, Sean Kennin should be copied on this;\n",
            "Ah, the follow-up!  Let's definitely loop in Tim Persson on this one; answer1; Oh, you want to know who should be copied on the follow-up email?  Absolutely, Tim Persson needs to be in the loop on this one; answer2;  For the follow-up, I'd suggest including Tim Persson – he'll be thrilled to hear about the progress!; answer3;  Well, if you're asking about who deserves a heads-up on the next steps,  I'd say Tim Persson is your man; answer4;  Considering all the details, I think we should definitely copy Tim Persson on this follow-up – he's deeply invested in this project, you see.; answer5\n"
          ]
        }
      ]
    },
    {
      "cell_type": "code",
      "source": [
        "with open('/content/drive/MyDrive/SnapaddyQuestionnaires/q1_processed.json', 'w', encoding='utf-8') as f:\n",
        "        json.dump(processed_data, f, ensure_ascii=False, indent=4)"
      ],
      "metadata": {
        "id": "YCWYrC8KcbNG"
      },
      "execution_count": 5,
      "outputs": []
    }
  ]
}