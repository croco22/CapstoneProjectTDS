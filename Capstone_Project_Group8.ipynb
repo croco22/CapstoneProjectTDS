{
  "nbformat": 4,
  "nbformat_minor": 0,
  "metadata": {
    "colab": {
      "provenance": [],
      "mount_file_id": "1jcFSYT3axDyh7qVPAHaR_cy7fWTRRJa8",
      "authorship_tag": "ABX9TyMEYbQKDhjJ090RsJKIwhsN",
      "include_colab_link": true
    },
    "kernelspec": {
      "name": "python3",
      "display_name": "Python 3"
    },
    "language_info": {
      "name": "python"
    }
  },
  "cells": [
    {
      "cell_type": "markdown",
      "metadata": {
        "id": "view-in-github",
        "colab_type": "text"
      },
      "source": [
        "<a href=\"https://colab.research.google.com/github/croco22/CapstoneProjectTDS/blob/main/Capstone_Project_Group8.ipynb\" target=\"_parent\"><img src=\"https://colab.research.google.com/assets/colab-badge.svg\" alt=\"Open In Colab\"/></a>"
      ]
    },
    {
      "cell_type": "markdown",
      "source": [
        "# Capstone Project: Questionnaires"
      ],
      "metadata": {
        "id": "08r_8_xsdHfG"
      }
    },
    {
      "cell_type": "code",
      "source": [
        "import json\n",
        "import time\n",
        "import google.generativeai as genai\n",
        "from google.colab import userdata\n",
        "import requests\n",
        "\n",
        "key = userdata.get('GOOGLE_API_KEY')\n",
        "\n",
        "genai.configure(api_key=key)\n",
        "\n",
        "ai_model = genai.GenerativeModel(\"gemini-1.5-flash\")\n",
        "\n",
        "url = 'https://raw.githubusercontent.com/croco22/CapstoneProjectTDS/refs/heads/main/questionnaires/questionnaire1.json'\n",
        "\n",
        "response = requests.get(url)\n",
        "\n",
        "if response.status_code == 200:\n",
        "    try:\n",
        "        data1 = response.json()\n",
        "    except json.JSONDecodeError:\n",
        "        print(\"Fehler beim Parsen der JSON-Daten.\")\n",
        "else:\n",
        "    print(f\"Fehler: Statuscode {response.status_code}\")\n",
        "\n",
        "print(data1)"
      ],
      "metadata": {
        "colab": {
          "base_uri": "https://localhost:8080/"
        },
        "id": "jgaZ4x_pZ2JI",
        "outputId": "c0d38e33-25a5-4eae-b534-a85bb18b0e99"
      },
      "execution_count": 7,
      "outputs": [
        {
          "output_type": "stream",
          "name": "stdout",
          "text": [
            "[{'id': 'aa2d8cdd-0758-4035-b0b6-ca18e2f380d8', 'type': 'SINGLE_SELECT', 'question': 'Data processing consent', 'options': [{'id': 'ee0437c0-6335-4b88-8bc5-d4eb8e2c68bf', 'option': 'Yes'}, {'id': 'd357ab84-929f-440a-b9ad-42ff36402a53', 'option': 'No'}]}, {'id': '12e1ed1d-edaa-4e93-8645-de3850e998f9', 'type': 'SINGLE_SELECT', 'question': 'Customer group', 'options': [{'id': '53cc44fa-397b-40bf-8af8-3f629818c93b', 'option': 'End User'}, {'id': 'bab850d1-2de8-4cae-9f87-2c86d41615e8', 'option': 'Wholesaler, Distributor'}, {'id': '31ffae1e-f742-4a0b-b279-eb393483f075', 'option': 'Consultant, Planner, Architect'}, {'id': 'ed56f777-a7cd-48db-9d36-e2579c57e361', 'option': 'R&D'}]}, {'id': '625012ae-9192-4cf6-a73d-55e1813d6014', 'type': 'MULTI_SELECT', 'question': 'Products interested in', 'options': [{'id': '4ccbe8ae-ce37-4822-830a-542aa0475d30', 'option': 'MY-SYSTEM'}, {'id': '58fdea0d-46db-41ef-a089-825f6ebfbb99', 'option': 'Notion'}, {'id': '13906f18-4e39-4d39-8da9-b5e49d9e4cc5', 'option': 'JTS'}, {'id': '1098f7be-b411-427b-a27a-28e16019c454', 'option': 'JS EcoLine'}, {'id': '313457eb-f171-4497-99d4-25fb971a9f9e', 'option': 'AKW100'}, {'id': '92be0772-2471-4a67-bcb3-18894db1fb5d', 'option': 'AX100'}]}, {'id': '0699fc5a-34a4-4160-bda1-fb135a3615da', 'type': 'MULTI_SELECT', 'question': 'What kind of follow up is planned', 'options': [{'id': '54c28cbb-1da5-4797-a60a-69bf7f67d4d6', 'option': 'Email'}, {'id': '46cd9717-6aa9-4d75-8bc6-965b4fdf7d9d', 'option': 'Phone'}, {'id': 'fd93612d-b5a7-4ac8-b3bf-6b2e441f7ef6', 'option': 'Schedule a Visit'}, {'id': '0448361d-b380-4a4b-ac53-db242983a293', 'option': 'No action'}]}, {'id': '815dab84-bc5e-4764-9777-0c0126e3173e', 'type': 'MULTI_SELECT', 'question': 'Who to copy in follow up', 'options': [{'id': '6727080a-43f2-4198-9ae9-d5265c2968a2', 'option': 'Stephan Maier'}, {'id': '06f2722d-fc46-43d7-b019-e1c687268eb2', 'option': 'Joachim Wagner'}, {'id': '63ac3407-81ba-46c1-bdd4-44399f52a737', 'option': 'Erik Schneider'}, {'id': '200568b3-2cc0-4e93-8fdf-e5d46423b2f2', 'option': 'Oliver Eibel'}, {'id': '040e5aa8-79af-4033-a9bb-dd02591da101', 'option': 'Angelina Haug'}, {'id': 'c333e0fc-9a9d-4046-94bf-55e382c14f91', 'option': 'Marisa Peng'}, {'id': '4801f26f-5f21-4135-9745-cb3723511eba', 'option': 'Johannes Wagner'}, {'id': 'f3367795-f31f-4c16-8f2d-681f5135d82e', 'option': 'Jessica Hanke'}, {'id': '0705a961-7d4a-48a7-a370-5f29bcb66cd6', 'option': 'Sandro Kalter'}, {'id': 'bce33461-911b-4f77-abf9-c16c954d1ce6', 'option': 'Jens Roschmann'}, {'id': '7bd036a3-2f0f-4191-bd96-78b4eafbf48a', 'option': 'Domiki Stein'}, {'id': '6e8c0cdf-3667-44ca-9d0b-137fee671022', 'option': 'Sean Kennin'}, {'id': 'e703af01-981f-4433-a40f-fe8dcdb8d3b3', 'option': 'Tim Persson'}]}]\n"
          ]
        }
      ]
    },
    {
      "cell_type": "code",
      "execution_count": 8,
      "metadata": {
        "id": "xQdppMZmZv4W"
      },
      "outputs": [],
      "source": [
        "def process_json(data):\n",
        "    \"\"\"Verarbeitet die JSON-Daten und fügt Antworten hinzu.\"\"\"\n",
        "    for item in data:\n",
        "        if 'options' in item:\n",
        "            for option in item['options']:\n",
        "                response_text = generate_answer(item['question'], option['option'])\n",
        "                if response_text:\n",
        "                    answer_list = [part.strip() for part in response_text.split(\"§\")]\n",
        "                    option['text'] = answer_list\n",
        "                    print(f\"Antworten generiert für Frage {item['question']} und Antwort {option['option']}\")\n",
        "                    time.sleep(3)\n",
        "    return data\n",
        "\n",
        "\n",
        "def generate_answer(question, option):\n",
        "    \"\"\"Generiert eine Antwort auf eine Frage basierend auf der Option.\"\"\"\n",
        "    prompt = f\"\"\"\n",
        "    You are the user of an app and you are responding in a spoken style to the following question.\n",
        "    You like to talk so you don't just say yes or no but rather answer with a whole sentence.\n",
        "    Question: \"{question}\"\n",
        "    Your answer should contain following content (e.g. if the content of the answer is yes, you convey this in your response):\n",
        "    Content of the answer: \"{option}\"\n",
        "    The responses should be in the following format and be kind of random so that each answer is in a different in style.\n",
        "    Generate 5 answers that are split by a § sign and contain only text.\n",
        "    answer1§answer2§...§answer5\n",
        "    \"\"\"\n",
        "    try:\n",
        "        response = ai_model.generate_content(prompt)\n",
        "        return response.text.strip()\n",
        "    except Exception as e:\n",
        "        print(f\"Fehler bei der Generierung: {e}\")\n",
        "        return None"
      ]
    },
    {
      "cell_type": "code",
      "source": [
        "processed_data = process_json(data1)"
      ],
      "metadata": {
        "colab": {
          "base_uri": "https://localhost:8080/",
          "height": 520
        },
        "id": "uaGLow0_NNHw",
        "outputId": "00516478-ea9d-47df-c794-07a599ad4a66"
      },
      "execution_count": 9,
      "outputs": [
        {
          "output_type": "stream",
          "name": "stdout",
          "text": [
            "Antworten generiert für Frage Data processing consent und Antwort Yes\n",
            "Antworten generiert für Frage Data processing consent und Antwort No\n",
            "Antworten generiert für Frage Customer group und Antwort End User\n",
            "Antworten generiert für Frage Customer group und Antwort Wholesaler, Distributor\n",
            "Antworten generiert für Frage Customer group und Antwort Consultant, Planner, Architect\n",
            "Antworten generiert für Frage Customer group und Antwort R&D\n",
            "Antworten generiert für Frage Products interested in und Antwort MY-SYSTEM\n",
            "Antworten generiert für Frage Products interested in und Antwort Notion\n",
            "Antworten generiert für Frage Products interested in und Antwort JTS\n",
            "Antworten generiert für Frage Products interested in und Antwort JS EcoLine\n",
            "Antworten generiert für Frage Products interested in und Antwort AKW100\n",
            "Antworten generiert für Frage Products interested in und Antwort AX100\n",
            "Antworten generiert für Frage What kind of follow up is planned und Antwort Email\n",
            "Antworten generiert für Frage What kind of follow up is planned und Antwort Phone\n",
            "Antworten generiert für Frage What kind of follow up is planned und Antwort Schedule a Visit\n",
            "Antworten generiert für Frage What kind of follow up is planned und Antwort No action\n",
            "Antworten generiert für Frage Who to copy in follow up und Antwort Stephan Maier\n",
            "Antworten generiert für Frage Who to copy in follow up und Antwort Joachim Wagner\n",
            "Antworten generiert für Frage Who to copy in follow up und Antwort Erik Schneider\n",
            "Antworten generiert für Frage Who to copy in follow up und Antwort Oliver Eibel\n",
            "Antworten generiert für Frage Who to copy in follow up und Antwort Angelina Haug\n",
            "Antworten generiert für Frage Who to copy in follow up und Antwort Marisa Peng\n",
            "Antworten generiert für Frage Who to copy in follow up und Antwort Johannes Wagner\n",
            "Antworten generiert für Frage Who to copy in follow up und Antwort Jessica Hanke\n",
            "Antworten generiert für Frage Who to copy in follow up und Antwort Sandro Kalter\n",
            "Antworten generiert für Frage Who to copy in follow up und Antwort Jens Roschmann\n",
            "Antworten generiert für Frage Who to copy in follow up und Antwort Domiki Stein\n",
            "Antworten generiert für Frage Who to copy in follow up und Antwort Sean Kennin\n",
            "Antworten generiert für Frage Who to copy in follow up und Antwort Tim Persson\n"
          ]
        }
      ]
    },
    {
      "cell_type": "code",
      "source": [
        "with open('q1_processed.json', 'w', encoding='utf-8') as f:\n",
        "        json.dump(processed_data, f, ensure_ascii=False, indent=4)"
      ],
      "metadata": {
        "id": "YCWYrC8KcbNG"
      },
      "execution_count": 10,
      "outputs": []
    }
  ]
}