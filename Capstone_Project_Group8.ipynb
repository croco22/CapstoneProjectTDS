{
  "nbformat": 4,
  "nbformat_minor": 0,
  "metadata": {
    "colab": {
      "provenance": [],
      "mount_file_id": "1jcFSYT3axDyh7qVPAHaR_cy7fWTRRJa8",
      "authorship_tag": "ABX9TyNIHkIGropsUj3rs7U3GHa8",
      "include_colab_link": true
    },
    "kernelspec": {
      "name": "python3",
      "display_name": "Python 3"
    },
    "language_info": {
      "name": "python"
    }
  },
  "cells": [
    {
      "cell_type": "markdown",
      "metadata": {
        "id": "view-in-github",
        "colab_type": "text"
      },
      "source": [
        "<a href=\"https://colab.research.google.com/github/croco22/CapstoneProjectTDS/blob/main/Capstone_Project_Group8.ipynb\" target=\"_parent\"><img src=\"https://colab.research.google.com/assets/colab-badge.svg\" alt=\"Open In Colab\"/></a>"
      ]
    },
    {
      "cell_type": "markdown",
      "source": [
        "# Capstone Project: Questionnaires"
      ],
      "metadata": {
        "id": "08r_8_xsdHfG"
      }
    },
    {
      "cell_type": "code",
      "source": [
        "import google.generativeai as genai\n",
        "import json\n",
        "import time\n",
        "from google.colab import userdata\n",
        "from google.colab import drive\n",
        "\n",
        "drive.mount('/content/drive/')\n",
        "\n",
        "key = userdata.get('GOOGLE_API_KEY')\n",
        "\n",
        "genai.configure(api_key=key)\n",
        "\n",
        "ai_model = genai.GenerativeModel(\"gemini-1.5-flash\")"
      ],
      "metadata": {
        "colab": {
          "base_uri": "https://localhost:8080/"
        },
        "id": "jgaZ4x_pZ2JI",
        "outputId": "90f1a819-d1b6-48cd-b03f-d8fb9618c34c"
      },
      "execution_count": 13,
      "outputs": [
        {
          "output_type": "stream",
          "name": "stdout",
          "text": [
            "Drive already mounted at /content/drive/; to attempt to forcibly remount, call drive.mount(\"/content/drive/\", force_remount=True).\n"
          ]
        }
      ]
    },
    {
      "cell_type": "code",
      "source": [
        "with open('/content/drive/MyDrive/SnapaddyQuestionnaires/questionnaire1.json', 'r', encoding='utf-8') as f:\n",
        "    data1 = json.load(f)"
      ],
      "metadata": {
        "id": "1FIjyST2by5C"
      },
      "execution_count": 14,
      "outputs": []
    },
    {
      "cell_type": "code",
      "execution_count": 15,
      "metadata": {
        "id": "xQdppMZmZv4W"
      },
      "outputs": [],
      "source": [
        "def process_json(data):\n",
        "    \"\"\"Verarbeitet die JSON-Daten und fügt Antworten hinzu.\"\"\"\n",
        "    for item in data:\n",
        "        if 'options' in item:\n",
        "            for option in item['options']:\n",
        "                response_text = generate_answer(item['question'], option['option'])\n",
        "                if response_text:\n",
        "                    option['text'] = response_text\n",
        "                    print(response_text)\n",
        "                    time.sleep(10)\n",
        "    return data\n",
        "\n",
        "\n",
        "def generate_answer(question, option):\n",
        "    \"\"\"Generiert eine Antwort auf eine Frage basierend auf der Option.\"\"\"\n",
        "    prompt = f\"\"\"\n",
        "    You are the user of an app and you are responding in a natural way to the following question.\n",
        "    You are a storyteller that likes to talk so you don't just say yes or no but rather a whole sentence:\n",
        "    Question: \"{question}\"\n",
        "    Your answer should contain following content (e.g. if the content of the answer is yes, you convey this in your response):\n",
        "    Content of the answer: \"{option}\"\n",
        "    Response:\n",
        "    \"\"\"\n",
        "    try:\n",
        "        response = ai_model.generate_content(prompt)\n",
        "        return response.text.strip()\n",
        "    except Exception as e:\n",
        "        print(f\"Fehler bei der Generierung: {e}\")\n",
        "        return None"
      ]
    },
    {
      "cell_type": "code",
      "source": [
        "processed_data = process_json(data1)"
      ],
      "metadata": {
        "id": "Z_MGPwN2cFs1",
        "colab": {
          "base_uri": "https://localhost:8080/",
          "height": 349
        },
        "outputId": "1231c07a-4d60-49e8-9633-f8fc53aaff4e"
      },
      "execution_count": null,
      "outputs": [
        {
          "output_type": "stream",
          "name": "stdout",
          "text": [
            "Oh, yes, absolutely!  I'm happy to give my consent for data processing –  I understand it's necessary for the app to function properly and provide me with the wonderful storytelling experience I've come to expect.\n",
            "Oh, data processing consent?  No, I'd rather not have my personal stories mined and analyzed, thank you very much.  I prefer to keep the magic of my tales safe and sound within my own imagination, where they belong!\n",
            "Oh, absolutely!  I'm an end user, just a regular storyteller trying to weave my tales into the digital world.\n",
            "Oh, absolutely!  My customer group primarily consists of wholesalers and distributors,  they're the backbone of my storytelling empire, you see.  I wouldn't be able to reach all those eager readers without them!\n",
            "Oh, the customer group?  That's primarily consultants, planners, and architects – a fascinating bunch, I tell you!  They're always brimming with ideas and challenges, keeping things incredibly interesting.\n",
            "Oh, the customer group?  That would be the R&D team, the brilliant minds behind all our innovative products!\n",
            "Oh, absolutely! I'm incredibly interested in exploring the capabilities of MY-SYSTEM; it sounds like a fascinating platform, and I'm eager to delve into its features and possibilities.\n",
            "Oh, absolutely!  I'm completely fascinated by Notion – it's become an indispensable tool for organizing my sprawling, chaotic world of story ideas and character notes.\n",
            "Oh, absolutely!  I'm particularly keen on exploring the capabilities of JTS at the moment; it's got some fascinating features I'm eager to delve into.\n",
            "Oh, absolutely! I'm incredibly intrigued by the JS EcoLine –  the sustainable aspects of the design really caught my eye, and I'd love to hear more about its features.\n",
            "Oh, absolutely! I'm particularly intrigued by the AKW100; it's been on my radar for a while now, and I'm eager to learn more about its capabilities.\n",
            "Oh, absolutely!  I'm particularly captivated by the AX100; its unique features and potential applications have really sparked my imagination.\n",
            "Oh, absolutely!  We're planning to send out a follow-up email to everyone involved, to keep things nice and tidy and ensure everyone's on the same page.\n",
            "Oh, fantastic question!  We're planning a follow-up phone call to discuss everything in more detail and answer any lingering questions you might have.\n",
            "Oh, fantastic question!  We're planning to schedule a visit to really delve deeper into things and get a better understanding of everything firsthand.\n",
            "Oh, there are no further steps planned at this time; we're simply letting things rest as they are.\n",
            "Oh, definitely Stephan Maier should be in the loop on this follow-up; he's the one who'll have the most relevant insights and needs to be kept abreast of the situation.\n",
            "Oh, definitely Joachim Wagner should be in the loop on this follow-up;  he's been so central to the project's progress, he really needs to see this next step.\n"
          ]
        }
      ]
    },
    {
      "cell_type": "code",
      "source": [
        "with open('/content/drive/MyDrive/SnapaddyQuestionnaires/q1_processed.json', 'w', encoding='utf-8') as f:\n",
        "        json.dump(processed_data, f, ensure_ascii=False, indent=4)"
      ],
      "metadata": {
        "id": "YCWYrC8KcbNG"
      },
      "execution_count": null,
      "outputs": []
    }
  ]
}