{
  "nbformat": 4,
  "nbformat_minor": 0,
  "metadata": {
    "colab": {
      "provenance": [],
      "include_colab_link": true
    },
    "kernelspec": {
      "name": "python3",
      "display_name": "Python 3"
    },
    "language_info": {
      "name": "python"
    }
  },
  "cells": [
    {
      "cell_type": "markdown",
      "metadata": {
        "id": "view-in-github",
        "colab_type": "text"
      },
      "source": [
        "<a href=\"https://colab.research.google.com/github/croco22/CapstoneProjectTDS/blob/philipp/notebooks/Dashboard_Demo.ipynb\" target=\"_parent\"><img src=\"https://colab.research.google.com/assets/colab-badge.svg\" alt=\"Open In Colab\"/></a>"
      ]
    },
    {
      "cell_type": "markdown",
      "source": [
        "# Q&A Dasbboard / Live Demo"
      ],
      "metadata": {
        "id": "a_5wicdWgEvH"
      }
    },
    {
      "cell_type": "code",
      "source": [
        "%%capture\n",
        "!pip install gradio\n",
        "# !pip install git+https://github.com/openai/whisper.git\n",
        "# import whisper\n",
        "import gradio as gr\n",
        "import pandas as pd"
      ],
      "metadata": {
        "id": "n3aIGKcngDpm"
      },
      "execution_count": 1,
      "outputs": []
    },
    {
      "cell_type": "code",
      "source": [
        "dfs = list()\n",
        "\n",
        "for questionnaire in range(1, 6):\n",
        "    url = f'https://raw.githubusercontent.com/croco22/CapstoneProjectTDS/refs/heads/main/questionnaires/questionnaire{questionnaire}.json'\n",
        "    df = pd.read_json(url)\n",
        "    df['questionnaire'] = questionnaire\n",
        "    df = df[['questionnaire', 'question']]\n",
        "    dfs.append(df)\n",
        "\n",
        "df = pd.concat(dfs, ignore_index=True)\n",
        "\n",
        "questionnaire_names = [f\"Questionnaire {i}\" for i in range(1, 6)]\n",
        "answered_questions = list()"
      ],
      "metadata": {
        "id": "PRffJkreal_J"
      },
      "execution_count": 2,
      "outputs": []
    },
    {
      "cell_type": "code",
      "source": [
        "def chatbot(selected_option, input_message, chat_history):\n",
        "    if not chat_history and input_message != \"start\":\n",
        "        response = \"Please select a questionnaire and start the conversation with the keyword 'start'.\"\n",
        "        chat_history.append((input_message, response))\n",
        "        return chat_history, chat_history\n",
        "\n",
        "    all_questions = df[df['questionnaire'] == int(selected_option[-1])]['question'].tolist()\n",
        "    unanswered_questions = [q for q in all_questions if q not in answered_questions]\n",
        "    unanswered_questions_string = '\\n'.join(unanswered_questions)\n",
        "\n",
        "    response = \"Please answer the following questions:\\n\" + unanswered_questions_string\n",
        "    chat_history.append((input_message, response))\n",
        "    return chat_history, chat_history\n",
        "\n",
        "\n",
        "with gr.Blocks() as app:\n",
        "    gr.Markdown(\"# Questionnaire Bot\")\n",
        "\n",
        "    option = gr.Dropdown(\n",
        "        questionnaire_names,\n",
        "        label=\"Choose a questionnaire to answer\"\n",
        "    )\n",
        "\n",
        "    chatbot_interface = gr.Chatbot(label=\"Interactive Chat\")\n",
        "\n",
        "    message = gr.Textbox(label=\"Your answers\", placeholder=\"Answer the question ...\")\n",
        "\n",
        "    send_button = gr.Button(\"Send\")\n",
        "\n",
        "    chat_history = gr.State([])\n",
        "\n",
        "    send_button.click(\n",
        "        fn=chatbot,\n",
        "        inputs=[option, message, chat_history],\n",
        "        outputs=[chatbot_interface, chat_history]\n",
        "    )\n",
        "\n",
        "app.launch(debug=True)"
      ],
      "metadata": {
        "colab": {
          "base_uri": "https://localhost:8080/",
          "height": 715
        },
        "id": "SL_hNq-0YBI3",
        "outputId": "c6d38dd5-4161-4ba0-c4d0-0f350cb6d7ed"
      },
      "execution_count": 3,
      "outputs": [
        {
          "output_type": "stream",
          "name": "stderr",
          "text": [
            "/usr/local/lib/python3.11/dist-packages/gradio/components/chatbot.py:273: UserWarning: You have not specified a value for the `type` parameter. Defaulting to the 'tuples' format for chatbot messages, but this is deprecated and will be removed in a future version of Gradio. Please set type='messages' instead, which uses openai-style dictionaries with 'role' and 'content' keys.\n",
            "  warnings.warn(\n"
          ]
        },
        {
          "output_type": "stream",
          "name": "stdout",
          "text": [
            "Running Gradio in a Colab notebook requires sharing enabled. Automatically setting `share=True` (you can turn this off by setting `share=False` in `launch()` explicitly).\n",
            "\n",
            "Colab notebook detected. This cell will run indefinitely so that you can see errors and logs. To turn off, set debug=False in launch().\n",
            "* Running on public URL: https://6e8a4d07d282a63f66.gradio.live\n",
            "\n",
            "This share link expires in 72 hours. For free permanent hosting and GPU upgrades, run `gradio deploy` from the terminal in the working directory to deploy to Hugging Face Spaces (https://huggingface.co/spaces)\n"
          ]
        },
        {
          "output_type": "display_data",
          "data": {
            "text/plain": [
              "<IPython.core.display.HTML object>"
            ],
            "text/html": [
              "<div><iframe src=\"https://6e8a4d07d282a63f66.gradio.live\" width=\"100%\" height=\"500\" allow=\"autoplay; camera; microphone; clipboard-read; clipboard-write;\" frameborder=\"0\" allowfullscreen></iframe></div>"
            ]
          },
          "metadata": {}
        },
        {
          "output_type": "stream",
          "name": "stdout",
          "text": [
            "Keyboard interruption in main thread... closing server.\n",
            "Killing tunnel 127.0.0.1:7860 <> https://6e8a4d07d282a63f66.gradio.live\n"
          ]
        },
        {
          "output_type": "execute_result",
          "data": {
            "text/plain": []
          },
          "metadata": {},
          "execution_count": 3
        }
      ]
    }
  ]
}