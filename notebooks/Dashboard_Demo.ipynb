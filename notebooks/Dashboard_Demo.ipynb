{
  "nbformat": 4,
  "nbformat_minor": 0,
  "metadata": {
    "colab": {
      "provenance": [],
      "include_colab_link": true
    },
    "kernelspec": {
      "name": "python3",
      "display_name": "Python 3"
    },
    "language_info": {
      "name": "python"
    }
  },
  "cells": [
    {
      "cell_type": "markdown",
      "metadata": {
        "id": "view-in-github",
        "colab_type": "text"
      },
      "source": [
        "<a href=\"https://colab.research.google.com/github/croco22/CapstoneProjectTDS/blob/philipp/notebooks/Dashboard_Demo.ipynb\" target=\"_parent\"><img src=\"https://colab.research.google.com/assets/colab-badge.svg\" alt=\"Open In Colab\"/></a>"
      ]
    },
    {
      "cell_type": "markdown",
      "source": [
        "# Q&A Dasbboard / Live Demo"
      ],
      "metadata": {
        "id": "a_5wicdWgEvH"
      }
    },
    {
      "cell_type": "code",
      "source": [
        "%%capture\n",
        "!pip install gradio\n",
        "# !pip install git+https://github.com/openai/whisper.git\n",
        "# import whisper\n",
        "import gradio as gr\n",
        "import time\n",
        "import pandas as pd\n",
        "import google.generativeai as genai\n",
        "from google.colab import userdata\n",
        "import webbrowser\n",
        "\n",
        "# Gemini API Setup\n",
        "GOOGLE_API_KEY = userdata.get('GOOGLE_API_KEY')\n",
        "genai.configure(api_key=GOOGLE_API_KEY)\n",
        "model = genai.GenerativeModel('gemini-1.5-flash')"
      ],
      "metadata": {
        "id": "n3aIGKcngDpm"
      },
      "execution_count": 4,
      "outputs": []
    },
    {
      "cell_type": "code",
      "source": [
        "def reformulate_question(text):\n",
        "    prompt = f\"\"\"Please carefully take the following statement and reformulate\n",
        "        it into a clear, concise, and grammatically correct question that\n",
        "        directly addresses the user, while maintaining the same meaning as the\n",
        "        original statement. If the provided text is already a question, retain\n",
        "        its original meaning without changing it. Do not omit or alter any\n",
        "        content or facts. The statement is: '{text}'\"\"\"\n",
        "\n",
        "    try:\n",
        "        response = model.generate_content(prompt)\n",
        "        time.sleep(4)\n",
        "        return response.text.strip()\n",
        "    except Exception as e:\n",
        "        exit(\"Error during API call: \", e)"
      ],
      "metadata": {
        "id": "W3n89LIKlIvB"
      },
      "execution_count": 5,
      "outputs": []
    },
    {
      "cell_type": "code",
      "source": [
        "dfs = list()\n",
        "\n",
        "for q in range(1, 6):\n",
        "    url = f'https://raw.githubusercontent.com/croco22/CapstoneProjectTDS/refs/heads/main/questionnaires/questionnaire{q}.json'\n",
        "    df = pd.read_json(url)\n",
        "    df['questionnaire'] = f\"Questionnaire {q}\"\n",
        "    df = df[['questionnaire', 'question']]\n",
        "    dfs.append(df)\n",
        "\n",
        "df = pd.concat(dfs, ignore_index=True)\n",
        "\n",
        "df['better_question'] = df['question'].apply(reformulate_question)"
      ],
      "metadata": {
        "id": "PRffJkreal_J"
      },
      "execution_count": 6,
      "outputs": []
    },
    {
      "cell_type": "code",
      "source": [
        "answered_questions = list()\n",
        "\n",
        "\n",
        "def chatbot(selected_option, input_message, chat_history):\n",
        "    if not chat_history and input_message != \"start\":\n",
        "        response = \"Select a questionnaire and start the conversation with 'start'.\"\n",
        "        chat_history.append((input_message, response))\n",
        "        return chat_history, chat_history\n",
        "\n",
        "    if chat_history and not input_message:\n",
        "        response = \"No worries! It seems like you’re done with the questions. 😊 The chat will end now. Feel free to return anytime!\"\n",
        "        chat_history.append((input_message, response))\n",
        "        return chat_history, chat_history\n",
        "\n",
        "    all_questions = df[df['questionnaire'] == selected_option]['better_question'].tolist()\n",
        "\n",
        "    if input_message in all_questions: # Todo: Das natürlich noch Quatsch\n",
        "        answered_questions.append(input_message)\n",
        "    print(\"reached\")\n",
        "    unanswered_questions = [q for q in all_questions if q not in answered_questions]\n",
        "\n",
        "    if len(unanswered_questions) == 0:\n",
        "        response = \"You have answered all the questions in this questionnaire.\"\n",
        "        chat_history.append((input_message, response))\n",
        "        return chat_history, chat_history\n",
        "    elif len(unanswered_questions) < 3:\n",
        "        response = \"If you don't want to answer the other questions, end the conversation with 'end'.\\n\"\n",
        "    else:\n",
        "        response = \"\"\n",
        "\n",
        "    unanswered_questions_string = '\\n'.join(unanswered_questions)\n",
        "    response = response + \"Please answer the following questions:\\n\" + unanswered_questions_string\n",
        "\n",
        "    chat_history.append((input_message, response))\n",
        "    return chat_history, chat_history\n",
        "\n",
        "\n",
        "with gr.Blocks() as app:\n",
        "    gr.Markdown(\"# 🎯 **SurveyMaster 8** - Your Ultimate Polling Chatbot 🤖\")\n",
        "\n",
        "    option = gr.Dropdown(\n",
        "        list(df['questionnaire'].unique()),\n",
        "        label=\"Choose a questionnaire\"\n",
        "    )\n",
        "\n",
        "    chatbot_interface = gr.Chatbot()\n",
        "\n",
        "    message = gr.Textbox(label=\"Your answers\", placeholder=\"Answer the questions ...\")\n",
        "\n",
        "    send_button = gr.Button(\"Send\")\n",
        "\n",
        "    chat_history = gr.State([])\n",
        "\n",
        "    send_button.click(\n",
        "        fn=chatbot,\n",
        "        inputs=[option, message, chat_history],\n",
        "        outputs=[chatbot_interface, chat_history]\n",
        "    )\n",
        "\n",
        "app.launch()\n",
        "webbrowser.open(app.share_url)"
      ],
      "metadata": {
        "colab": {
          "base_uri": "https://localhost:8080/",
          "height": 698
        },
        "id": "SL_hNq-0YBI3",
        "outputId": "a7d6ec9e-2461-457a-d385-5e6c0c34b8df"
      },
      "execution_count": 7,
      "outputs": [
        {
          "output_type": "stream",
          "name": "stderr",
          "text": [
            "/usr/local/lib/python3.11/dist-packages/gradio/components/chatbot.py:273: UserWarning: You have not specified a value for the `type` parameter. Defaulting to the 'tuples' format for chatbot messages, but this is deprecated and will be removed in a future version of Gradio. Please set type='messages' instead, which uses openai-style dictionaries with 'role' and 'content' keys.\n",
            "  warnings.warn(\n"
          ]
        },
        {
          "output_type": "stream",
          "name": "stdout",
          "text": [
            "Running Gradio in a Colab notebook requires sharing enabled. Automatically setting `share=True` (you can turn this off by setting `share=False` in `launch()` explicitly).\n",
            "\n",
            "Colab notebook detected. To show errors in colab notebook, set debug=True in launch()\n",
            "* Running on public URL: https://ed2cd06cd4665db434.gradio.live\n",
            "\n",
            "This share link expires in 72 hours. For free permanent hosting and GPU upgrades, run `gradio deploy` from the terminal in the working directory to deploy to Hugging Face Spaces (https://huggingface.co/spaces)\n"
          ]
        },
        {
          "output_type": "display_data",
          "data": {
            "text/plain": [
              "<IPython.core.display.HTML object>"
            ],
            "text/html": [
              "<div><iframe src=\"https://ed2cd06cd4665db434.gradio.live\" width=\"100%\" height=\"500\" allow=\"autoplay; camera; microphone; clipboard-read; clipboard-write;\" frameborder=\"0\" allowfullscreen></iframe></div>"
            ]
          },
          "metadata": {}
        },
        {
          "output_type": "execute_result",
          "data": {
            "text/plain": [
              "False"
            ]
          },
          "metadata": {},
          "execution_count": 7
        }
      ]
    }
  ]
}