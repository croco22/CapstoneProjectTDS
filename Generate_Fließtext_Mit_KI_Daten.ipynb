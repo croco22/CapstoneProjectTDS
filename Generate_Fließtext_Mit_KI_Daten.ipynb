{
  "nbformat": 4,
  "nbformat_minor": 0,
  "metadata": {
    "colab": {
      "provenance": [],
      "authorship_tag": "ABX9TyMFT7h1aR4bgtPnjxprj9gM",
      "include_colab_link": true
    },
    "kernelspec": {
      "name": "python3",
      "display_name": "Python 3"
    },
    "language_info": {
      "name": "python"
    }
  },
  "cells": [
    {
      "cell_type": "markdown",
      "metadata": {
        "id": "view-in-github",
        "colab_type": "text"
      },
      "source": [
        "<a href=\"https://colab.research.google.com/github/croco22/CapstoneProjectTDS/blob/seb/Generate_Flie%C3%9Ftext_Mit_KI_Daten.ipynb\" target=\"_parent\"><img src=\"https://colab.research.google.com/assets/colab-badge.svg\" alt=\"Open In Colab\"/></a>"
      ]
    },
    {
      "cell_type": "markdown",
      "source": [
        "# Extra Task: Continous Text generation"
      ],
      "metadata": {
        "id": "EZL0IsGRBxUP"
      }
    },
    {
      "cell_type": "code",
      "execution_count": 12,
      "metadata": {
        "colab": {
          "base_uri": "https://localhost:8080/"
        },
        "collapsed": true,
        "id": "kuWe-GQV-66K",
        "outputId": "20a5c087-befb-474b-dcbd-58e5b8dba60b"
      },
      "outputs": [
        {
          "output_type": "stream",
          "name": "stdout",
          "text": [
            "Requirement already satisfied: word2number in /usr/local/lib/python3.11/dist-packages (1.1)\n",
            "Retrieved file: qa_dataset.json\n"
          ]
        }
      ],
      "source": [
        "!pip install word2number\n",
        "\n",
        "import json\n",
        "import time\n",
        "import google.generativeai as genai\n",
        "from google.colab import userdata\n",
        "import requests\n",
        "from word2number import w2n\n",
        "import re\n",
        "import random\n",
        "import pandas as pd\n",
        "\n",
        "# API setup\n",
        "key = userdata.get('GOOGLE_API_KEY')\n",
        "genai.configure(api_key=key)\n",
        "ai_model = genai.GenerativeModel('gemini-1.5-flash')\n",
        "\n",
        "# Read dataset file\n",
        "url = 'https://raw.githubusercontent.com/croco22/CapstoneProjectTDS/refs/heads/main/qa_dataset.json'\n",
        "response = requests.get(url)\n",
        "\n",
        "if response.status_code == 200:\n",
        "    data = response.json()\n",
        "    print(\"Retrieved file: qa_dataset.json\")\n",
        "else:\n",
        "    print(\"Error while parsing a file: \", response.status_code)"
      ]
    },
    {
      "cell_type": "code",
      "source": [
        "# Neues Datenset generieren\n",
        "def generate_dataset(data):\n",
        "    new_dataset = []\n",
        "\n",
        "    # Sicherstellen, dass keine Duplikate in Gruppen sind\n",
        "    unique_questions = list({entry[\"question\"]: entry for entry in data}.values())\n",
        "\n",
        "    # Fragen mischen\n",
        "    random.shuffle(unique_questions)\n",
        "\n",
        "    # Gruppiere die Daten in Dreiergruppen\n",
        "    for i in range(0, len(unique_questions), 3):\n",
        "        group = unique_questions[i:i+3]\n",
        "\n",
        "        # Überprüfen, ob die Gruppe vollständig ist (d.h. genau 3 Elemente enthält)\n",
        "        if len(group) < 3:\n",
        "            break\n",
        "\n",
        "        # Fließtext generieren\n",
        "        text_parts = []\n",
        "        questions = []\n",
        "\n",
        "        for entry in group:\n",
        "            question = entry[\"question\"]\n",
        "            answer = entry[\"intended_answer\"]\n",
        "            context = entry[\"context\"]\n",
        "\n",
        "            text_parts.append(f\"{context}\")\n",
        "            questions.append({\n",
        "                \"question\": question,\n",
        "                \"intended_answer\": answer\n",
        "            })\n",
        "\n",
        "        # Den Fließtext zusammenfügen\n",
        "        text = \" \".join(text_parts)\n",
        "\n",
        "        # Eintrag in das neue Dataset hinzufügen\n",
        "        new_dataset.append({\n",
        "            \"text\": text,\n",
        "            \"questions\": questions\n",
        "        })\n",
        "\n",
        "    return new_dataset\n",
        "\n",
        "# Speichern des neuen Datensets\n",
        "def save_dataset(data, output_path):\n",
        "    with open(output_path, 'w', encoding='utf-8') as f:\n",
        "        json.dump(data, f, ensure_ascii=False, indent=4)\n"
      ],
      "metadata": {
        "id": "pIAsdQJKCow3"
      },
      "execution_count": 2,
      "outputs": []
    },
    {
      "cell_type": "code",
      "source": [
        "output_file = \"new_qa_dataset.json\"  # Neuer Dateipfad\n",
        "\n",
        "# Neues Datenset generieren\n",
        "new_dataset = generate_dataset(data)\n",
        "\n",
        "# Neues Datenset speichern\n",
        "save_dataset(new_dataset, output_file)\n",
        "print(f\"Das neue Dataset wurde in {output_file} gespeichert.\")"
      ],
      "metadata": {
        "colab": {
          "base_uri": "https://localhost:8080/"
        },
        "id": "5WM_xptiMin5",
        "outputId": "73fcacde-02af-4954-e384-a54b5d068e48"
      },
      "execution_count": 3,
      "outputs": [
        {
          "output_type": "stream",
          "name": "stdout",
          "text": [
            "Das neue Dataset wurde in new_qa_dataset.json gespeichert.\n"
          ]
        }
      ]
    },
    {
      "cell_type": "code",
      "source": [
        "def generate_dataset_with_gemini(data, ai_model):\n",
        "    new_dataset = []\n",
        "\n",
        "    # Sicherstellen, dass keine Duplikate in Gruppen sind\n",
        "    unique_questions = list({entry[\"question\"]: entry for entry in data}.values())\n",
        "\n",
        "    # Fragen mischen\n",
        "    random.shuffle(unique_questions)\n",
        "\n",
        "    # Gruppiere die Daten in Dreiergruppen\n",
        "    for i in range(0, len(unique_questions), 3):\n",
        "        group = unique_questions[i:i+3]\n",
        "\n",
        "        # Überprüfen, ob die Gruppe vollständig ist (d.h. genau 3 Elemente enthält)\n",
        "        if len(group) < 3:\n",
        "            break\n",
        "\n",
        "        # Bereite die Eingabe für Gemini vor\n",
        "        gemini_input = \"You are a business man using an app in which you answer questions about your business. The answers should be clear, concise, and professional.\"\n",
        "        questions = []\n",
        "\n",
        "        for entry in group:\n",
        "            question = entry[\"question\"]\n",
        "            answer = entry[\"intended_answer\"]\n",
        "            context = entry[\"context\"]\n",
        "\n",
        "            # Füge Kontext, Frage und Antwort zum Input hinzu\n",
        "            gemini_input += f\"Context: {context}\\nQuestion: {question}\\nAnswer: {answer}\\n\\n\"\n",
        "            questions.append({\"question\": question, \"intended_answer\": answer})\n",
        "\n",
        "        # Fließtext von Gemini generieren lassen\n",
        "        try:\n",
        "            response = ai_model.generate_content(\n",
        "                f\"Create a coherent and logical paragraph using the following information:\\n\\n{gemini_input}\"\n",
        "            )\n",
        "\n",
        "            text = response.text.strip() if response.text else \"No response generated\"\n",
        "\n",
        "        except Exception as e:\n",
        "            print(f\"Error with Gemini API: {e}\")\n",
        "            continue  # Überspringe Gruppe, falls ein Fehler auftritt\n",
        "\n",
        "        # Eintrag in das neue Dataset hinzufügen\n",
        "        new_dataset.append({\n",
        "            \"text\": text,\n",
        "            \"questions\": questions\n",
        "        })\n",
        "\n",
        "    return new_dataset\n",
        "\n",
        "# Speichern des neuen Datensets\n",
        "def save_dataset(data, output_path):\n",
        "    with open(output_path, 'w', encoding='utf-8') as f:\n",
        "        json.dump(data, f, ensure_ascii=False, indent=4)\n",
        "\n",
        "output_file = \"new_qa_ki_dataset.json\"  # Neuer Dateipfad\n",
        "\n",
        "# Neues Datenset generieren\n",
        "new_dataset = generate_dataset_with_gemini(data, ai_model)\n",
        "\n",
        "# Neues Datenset speichern\n",
        "save_dataset(new_dataset, output_file)\n",
        "print(f\"Das neue KI-generierte Dataset wurde in {output_file} gespeichert.\")\n",
        "\n"
      ],
      "metadata": {
        "id": "D1UFoLw5fcL1",
        "outputId": "ac96d5f6-00c3-4319-df5c-882ec6d9ebb0",
        "colab": {
          "base_uri": "https://localhost:8080/",
          "height": 360
        }
      },
      "execution_count": 3,
      "outputs": [
        {
          "output_type": "stream",
          "name": "stderr",
          "text": [
            "WARNING:tornado.access:429 POST /v1beta/models/gemini-1.5-flash:generateContent?%24alt=json%3Benum-encoding%3Dint (127.0.0.1) 506.84ms\n"
          ]
        },
        {
          "output_type": "stream",
          "name": "stdout",
          "text": [
            "Error with Gemini API: 429 POST https://generativelanguage.googleapis.com/v1beta/models/gemini-1.5-flash:generateContent?%24alt=json%3Benum-encoding%3Dint: Resource has been exhausted (e.g. check quota).\n"
          ]
        },
        {
          "output_type": "stream",
          "name": "stderr",
          "text": [
            "WARNING:tornado.access:429 POST /v1beta/models/gemini-1.5-flash:generateContent?%24alt=json%3Benum-encoding%3Dint (127.0.0.1) 1210.05ms\n"
          ]
        },
        {
          "output_type": "stream",
          "name": "stdout",
          "text": [
            "Error with Gemini API: 429 POST https://generativelanguage.googleapis.com/v1beta/models/gemini-1.5-flash:generateContent?%24alt=json%3Benum-encoding%3Dint: Resource has been exhausted (e.g. check quota).\n"
          ]
        },
        {
          "output_type": "stream",
          "name": "stderr",
          "text": [
            "WARNING:tornado.access:429 POST /v1beta/models/gemini-1.5-flash:generateContent?%24alt=json%3Benum-encoding%3Dint (127.0.0.1) 916.32ms\n"
          ]
        },
        {
          "output_type": "stream",
          "name": "stdout",
          "text": [
            "Error with Gemini API: 429 POST https://generativelanguage.googleapis.com/v1beta/models/gemini-1.5-flash:generateContent?%24alt=json%3Benum-encoding%3Dint: Resource has been exhausted (e.g. check quota).\n"
          ]
        },
        {
          "output_type": "stream",
          "name": "stderr",
          "text": [
            "WARNING:tornado.access:429 POST /v1beta/models/gemini-1.5-flash:generateContent?%24alt=json%3Benum-encoding%3Dint (127.0.0.1) 868.61ms\n"
          ]
        },
        {
          "output_type": "stream",
          "name": "stdout",
          "text": [
            "Error with Gemini API: 429 POST https://generativelanguage.googleapis.com/v1beta/models/gemini-1.5-flash:generateContent?%24alt=json%3Benum-encoding%3Dint: Resource has been exhausted (e.g. check quota).\n"
          ]
        },
        {
          "output_type": "stream",
          "name": "stderr",
          "text": [
            "WARNING:tornado.access:429 POST /v1beta/models/gemini-1.5-flash:generateContent?%24alt=json%3Benum-encoding%3Dint (127.0.0.1) 835.39ms\n"
          ]
        },
        {
          "output_type": "stream",
          "name": "stdout",
          "text": [
            "Error with Gemini API: 429 POST https://generativelanguage.googleapis.com/v1beta/models/gemini-1.5-flash:generateContent?%24alt=json%3Benum-encoding%3Dint: Resource has been exhausted (e.g. check quota).\n"
          ]
        },
        {
          "output_type": "stream",
          "name": "stderr",
          "text": [
            "WARNING:tornado.access:429 POST /v1beta/models/gemini-1.5-flash:generateContent?%24alt=json%3Benum-encoding%3Dint (127.0.0.1) 1066.66ms\n"
          ]
        },
        {
          "output_type": "stream",
          "name": "stdout",
          "text": [
            "Error with Gemini API: 429 POST https://generativelanguage.googleapis.com/v1beta/models/gemini-1.5-flash:generateContent?%24alt=json%3Benum-encoding%3Dint: Resource has been exhausted (e.g. check quota).\n"
          ]
        },
        {
          "output_type": "stream",
          "name": "stderr",
          "text": [
            "WARNING:tornado.access:429 POST /v1beta/models/gemini-1.5-flash:generateContent?%24alt=json%3Benum-encoding%3Dint (127.0.0.1) 1119.17ms\n"
          ]
        },
        {
          "output_type": "stream",
          "name": "stdout",
          "text": [
            "Error with Gemini API: 429 POST https://generativelanguage.googleapis.com/v1beta/models/gemini-1.5-flash:generateContent?%24alt=json%3Benum-encoding%3Dint: Resource has been exhausted (e.g. check quota).\n"
          ]
        },
        {
          "output_type": "stream",
          "name": "stderr",
          "text": [
            "WARNING:tornado.access:429 POST /v1beta/models/gemini-1.5-flash:generateContent?%24alt=json%3Benum-encoding%3Dint (127.0.0.1) 1037.70ms\n"
          ]
        },
        {
          "output_type": "stream",
          "name": "stdout",
          "text": [
            "Error with Gemini API: 429 POST https://generativelanguage.googleapis.com/v1beta/models/gemini-1.5-flash:generateContent?%24alt=json%3Benum-encoding%3Dint: Resource has been exhausted (e.g. check quota).\n"
          ]
        },
        {
          "output_type": "stream",
          "name": "stderr",
          "text": [
            "WARNING:tornado.access:429 POST /v1beta/models/gemini-1.5-flash:generateContent?%24alt=json%3Benum-encoding%3Dint (127.0.0.1) 1013.00ms\n"
          ]
        },
        {
          "output_type": "stream",
          "name": "stdout",
          "text": [
            "Error with Gemini API: 429 POST https://generativelanguage.googleapis.com/v1beta/models/gemini-1.5-flash:generateContent?%24alt=json%3Benum-encoding%3Dint: Resource has been exhausted (e.g. check quota).\n",
            "Das neue KI-generierte Dataset wurde in new_qa_ki_dataset.json gespeichert.\n"
          ]
        }
      ]
    },
    {
      "cell_type": "code",
      "source": [
        " def generate_dataset_with_gemini(data, ai_model):\n",
        "    new_dataset = []\n",
        "    unique_questions = list({entry[\"question\"]: entry for entry in data}.values())\n",
        "    random.shuffle(unique_questions)\n",
        "\n",
        "    for i in range(0, len(unique_questions), 3):\n",
        "        group = unique_questions[i:i+3]\n",
        "        if len(group) < 3:\n",
        "            break\n",
        "\n",
        "        gemini_input = \"You are a business man using an app in which you answer questions about your business. The answers should be clear, concise, and professional.\"\n",
        "        questions = []\n",
        "\n",
        "        for entry in group:\n",
        "            question = entry[\"question\"]\n",
        "            answer = entry[\"intended_answer\"]\n",
        "            context = entry[\"context\"]\n",
        "            gemini_input += f\"Context: {context}\\nQuestion: {question}\\nAnswer: {answer}\\n\\n\"\n",
        "            questions.append({\"question\": question, \"intended_answer\": answer})\n",
        "\n",
        "        try:\n",
        "            response = ai_model.generate_content(\n",
        "                gemini_input,\n",
        "                generation_config=genai.types.GenerationConfig(\n",
        "                    temperature=0.7,\n",
        "                    max_output_tokens=500\n",
        "                )\n",
        "            )\n",
        "            text = response.text.strip() if response.text else \"No response generated\"\n",
        "            new_dataset.append({\"text\": text, \"questions\": questions})\n",
        "\n",
        "            time.sleep(4)  # Warte 4 Sekunden vor dem nächsten API-Aufruf\n",
        "\n",
        "        except Exception as e:\n",
        "            print(f\"Error with Gemini API: {e}\")\n",
        "            time.sleep(5)  # Falls ein Fehler auftritt, etwas länger warten\n",
        "\n",
        "    return new_dataset\n",
        "\n",
        "# Speichern des neuen Datensets\n",
        "def save_dataset(data, output_path):\n",
        "    with open(output_path, 'w', encoding='utf-8') as f:\n",
        "        json.dump(data, f, ensure_ascii=False, indent=4)\n"
      ],
      "metadata": {
        "id": "HSJIo772cvSW"
      },
      "execution_count": 13,
      "outputs": []
    },
    {
      "cell_type": "code",
      "source": [
        "output_file = \"new_qa_ki_dataset.json\"  # Neuer Dateipfad\n",
        "\n",
        "# Neues Datenset generieren\n",
        "new_dataset = generate_dataset_with_gemini(data, ai_model)\n",
        "\n",
        "# Neues Datenset speichern\n",
        "save_dataset(new_dataset, output_file)\n",
        "print(f\"Das neue KI-generierte Dataset wurde in {output_file} gespeichert.\")"
      ],
      "metadata": {
        "colab": {
          "base_uri": "https://localhost:8080/",
          "height": 34
        },
        "id": "WBOd21inj2oN",
        "outputId": "f94662ff-174b-49a0-e8bb-a562ca9727c9"
      },
      "execution_count": 8,
      "outputs": [
        {
          "output_type": "stream",
          "name": "stdout",
          "text": [
            "Das neue KI-generierte Dataset wurde in new_qa_ki_dataset.json gespeichert.\n"
          ]
        }
      ]
    },
    {
      "cell_type": "code",
      "source": [
        "# data = pd.read_json('new_qa_dataset.json')\n",
        "# data.head()"
      ],
      "metadata": {
        "colab": {
          "base_uri": "https://localhost:8080/",
          "height": 204
        },
        "id": "83pXrtRBM3rg",
        "outputId": "3942c863-3e5d-4d8c-efea-192193ba7985"
      },
      "execution_count": null,
      "outputs": [
        {
          "output_type": "execute_result",
          "data": {
            "text/plain": [
              "                                                text  \\\n",
              "0  Ah, notes, yes, a vital part of my life, I mus...   \n",
              "1  Finally, I find it so difficult to see the big...   \n",
              "2  Okay, so given the choices, my reason for usin...   \n",
              "3  A CRM system you say? That makes me think imme...   \n",
              "4  Let me see, yes, the phone number you should u...   \n",
              "\n",
              "                                           questions  \n",
              "0  [{'question': 'Notes', 'intended_answer': None...  \n",
              "1  [{'question': 'What specific challenges are yo...  \n",
              "2  [{'question': 'Which of the following best des...  \n",
              "3  [{'question': 'CRM-System', 'intended_answer':...  \n",
              "4  [{'question': 'What phone number can we use fo...  "
            ],
            "text/html": [
              "\n",
              "  <div id=\"df-ae72b477-86c9-4d08-b1fa-a6461dc79c97\" class=\"colab-df-container\">\n",
              "    <div>\n",
              "<style scoped>\n",
              "    .dataframe tbody tr th:only-of-type {\n",
              "        vertical-align: middle;\n",
              "    }\n",
              "\n",
              "    .dataframe tbody tr th {\n",
              "        vertical-align: top;\n",
              "    }\n",
              "\n",
              "    .dataframe thead th {\n",
              "        text-align: right;\n",
              "    }\n",
              "</style>\n",
              "<table border=\"1\" class=\"dataframe\">\n",
              "  <thead>\n",
              "    <tr style=\"text-align: right;\">\n",
              "      <th></th>\n",
              "      <th>text</th>\n",
              "      <th>questions</th>\n",
              "    </tr>\n",
              "  </thead>\n",
              "  <tbody>\n",
              "    <tr>\n",
              "      <th>0</th>\n",
              "      <td>Ah, notes, yes, a vital part of my life, I mus...</td>\n",
              "      <td>[{'question': 'Notes', 'intended_answer': None...</td>\n",
              "    </tr>\n",
              "    <tr>\n",
              "      <th>1</th>\n",
              "      <td>Finally, I find it so difficult to see the big...</td>\n",
              "      <td>[{'question': 'What specific challenges are yo...</td>\n",
              "    </tr>\n",
              "    <tr>\n",
              "      <th>2</th>\n",
              "      <td>Okay, so given the choices, my reason for usin...</td>\n",
              "      <td>[{'question': 'Which of the following best des...</td>\n",
              "    </tr>\n",
              "    <tr>\n",
              "      <th>3</th>\n",
              "      <td>A CRM system you say? That makes me think imme...</td>\n",
              "      <td>[{'question': 'CRM-System', 'intended_answer':...</td>\n",
              "    </tr>\n",
              "    <tr>\n",
              "      <th>4</th>\n",
              "      <td>Let me see, yes, the phone number you should u...</td>\n",
              "      <td>[{'question': 'What phone number can we use fo...</td>\n",
              "    </tr>\n",
              "  </tbody>\n",
              "</table>\n",
              "</div>\n",
              "    <div class=\"colab-df-buttons\">\n",
              "\n",
              "  <div class=\"colab-df-container\">\n",
              "    <button class=\"colab-df-convert\" onclick=\"convertToInteractive('df-ae72b477-86c9-4d08-b1fa-a6461dc79c97')\"\n",
              "            title=\"Convert this dataframe to an interactive table.\"\n",
              "            style=\"display:none;\">\n",
              "\n",
              "  <svg xmlns=\"http://www.w3.org/2000/svg\" height=\"24px\" viewBox=\"0 -960 960 960\">\n",
              "    <path d=\"M120-120v-720h720v720H120Zm60-500h600v-160H180v160Zm220 220h160v-160H400v160Zm0 220h160v-160H400v160ZM180-400h160v-160H180v160Zm440 0h160v-160H620v160ZM180-180h160v-160H180v160Zm440 0h160v-160H620v160Z\"/>\n",
              "  </svg>\n",
              "    </button>\n",
              "\n",
              "  <style>\n",
              "    .colab-df-container {\n",
              "      display:flex;\n",
              "      gap: 12px;\n",
              "    }\n",
              "\n",
              "    .colab-df-convert {\n",
              "      background-color: #E8F0FE;\n",
              "      border: none;\n",
              "      border-radius: 50%;\n",
              "      cursor: pointer;\n",
              "      display: none;\n",
              "      fill: #1967D2;\n",
              "      height: 32px;\n",
              "      padding: 0 0 0 0;\n",
              "      width: 32px;\n",
              "    }\n",
              "\n",
              "    .colab-df-convert:hover {\n",
              "      background-color: #E2EBFA;\n",
              "      box-shadow: 0px 1px 2px rgba(60, 64, 67, 0.3), 0px 1px 3px 1px rgba(60, 64, 67, 0.15);\n",
              "      fill: #174EA6;\n",
              "    }\n",
              "\n",
              "    .colab-df-buttons div {\n",
              "      margin-bottom: 4px;\n",
              "    }\n",
              "\n",
              "    [theme=dark] .colab-df-convert {\n",
              "      background-color: #3B4455;\n",
              "      fill: #D2E3FC;\n",
              "    }\n",
              "\n",
              "    [theme=dark] .colab-df-convert:hover {\n",
              "      background-color: #434B5C;\n",
              "      box-shadow: 0px 1px 3px 1px rgba(0, 0, 0, 0.15);\n",
              "      filter: drop-shadow(0px 1px 2px rgba(0, 0, 0, 0.3));\n",
              "      fill: #FFFFFF;\n",
              "    }\n",
              "  </style>\n",
              "\n",
              "    <script>\n",
              "      const buttonEl =\n",
              "        document.querySelector('#df-ae72b477-86c9-4d08-b1fa-a6461dc79c97 button.colab-df-convert');\n",
              "      buttonEl.style.display =\n",
              "        google.colab.kernel.accessAllowed ? 'block' : 'none';\n",
              "\n",
              "      async function convertToInteractive(key) {\n",
              "        const element = document.querySelector('#df-ae72b477-86c9-4d08-b1fa-a6461dc79c97');\n",
              "        const dataTable =\n",
              "          await google.colab.kernel.invokeFunction('convertToInteractive',\n",
              "                                                    [key], {});\n",
              "        if (!dataTable) return;\n",
              "\n",
              "        const docLinkHtml = 'Like what you see? Visit the ' +\n",
              "          '<a target=\"_blank\" href=https://colab.research.google.com/notebooks/data_table.ipynb>data table notebook</a>'\n",
              "          + ' to learn more about interactive tables.';\n",
              "        element.innerHTML = '';\n",
              "        dataTable['output_type'] = 'display_data';\n",
              "        await google.colab.output.renderOutput(dataTable, element);\n",
              "        const docLink = document.createElement('div');\n",
              "        docLink.innerHTML = docLinkHtml;\n",
              "        element.appendChild(docLink);\n",
              "      }\n",
              "    </script>\n",
              "  </div>\n",
              "\n",
              "\n",
              "<div id=\"df-2bb81144-c75f-45c8-8c14-9691a0533d38\">\n",
              "  <button class=\"colab-df-quickchart\" onclick=\"quickchart('df-2bb81144-c75f-45c8-8c14-9691a0533d38')\"\n",
              "            title=\"Suggest charts\"\n",
              "            style=\"display:none;\">\n",
              "\n",
              "<svg xmlns=\"http://www.w3.org/2000/svg\" height=\"24px\"viewBox=\"0 0 24 24\"\n",
              "     width=\"24px\">\n",
              "    <g>\n",
              "        <path d=\"M19 3H5c-1.1 0-2 .9-2 2v14c0 1.1.9 2 2 2h14c1.1 0 2-.9 2-2V5c0-1.1-.9-2-2-2zM9 17H7v-7h2v7zm4 0h-2V7h2v10zm4 0h-2v-4h2v4z\"/>\n",
              "    </g>\n",
              "</svg>\n",
              "  </button>\n",
              "\n",
              "<style>\n",
              "  .colab-df-quickchart {\n",
              "      --bg-color: #E8F0FE;\n",
              "      --fill-color: #1967D2;\n",
              "      --hover-bg-color: #E2EBFA;\n",
              "      --hover-fill-color: #174EA6;\n",
              "      --disabled-fill-color: #AAA;\n",
              "      --disabled-bg-color: #DDD;\n",
              "  }\n",
              "\n",
              "  [theme=dark] .colab-df-quickchart {\n",
              "      --bg-color: #3B4455;\n",
              "      --fill-color: #D2E3FC;\n",
              "      --hover-bg-color: #434B5C;\n",
              "      --hover-fill-color: #FFFFFF;\n",
              "      --disabled-bg-color: #3B4455;\n",
              "      --disabled-fill-color: #666;\n",
              "  }\n",
              "\n",
              "  .colab-df-quickchart {\n",
              "    background-color: var(--bg-color);\n",
              "    border: none;\n",
              "    border-radius: 50%;\n",
              "    cursor: pointer;\n",
              "    display: none;\n",
              "    fill: var(--fill-color);\n",
              "    height: 32px;\n",
              "    padding: 0;\n",
              "    width: 32px;\n",
              "  }\n",
              "\n",
              "  .colab-df-quickchart:hover {\n",
              "    background-color: var(--hover-bg-color);\n",
              "    box-shadow: 0 1px 2px rgba(60, 64, 67, 0.3), 0 1px 3px 1px rgba(60, 64, 67, 0.15);\n",
              "    fill: var(--button-hover-fill-color);\n",
              "  }\n",
              "\n",
              "  .colab-df-quickchart-complete:disabled,\n",
              "  .colab-df-quickchart-complete:disabled:hover {\n",
              "    background-color: var(--disabled-bg-color);\n",
              "    fill: var(--disabled-fill-color);\n",
              "    box-shadow: none;\n",
              "  }\n",
              "\n",
              "  .colab-df-spinner {\n",
              "    border: 2px solid var(--fill-color);\n",
              "    border-color: transparent;\n",
              "    border-bottom-color: var(--fill-color);\n",
              "    animation:\n",
              "      spin 1s steps(1) infinite;\n",
              "  }\n",
              "\n",
              "  @keyframes spin {\n",
              "    0% {\n",
              "      border-color: transparent;\n",
              "      border-bottom-color: var(--fill-color);\n",
              "      border-left-color: var(--fill-color);\n",
              "    }\n",
              "    20% {\n",
              "      border-color: transparent;\n",
              "      border-left-color: var(--fill-color);\n",
              "      border-top-color: var(--fill-color);\n",
              "    }\n",
              "    30% {\n",
              "      border-color: transparent;\n",
              "      border-left-color: var(--fill-color);\n",
              "      border-top-color: var(--fill-color);\n",
              "      border-right-color: var(--fill-color);\n",
              "    }\n",
              "    40% {\n",
              "      border-color: transparent;\n",
              "      border-right-color: var(--fill-color);\n",
              "      border-top-color: var(--fill-color);\n",
              "    }\n",
              "    60% {\n",
              "      border-color: transparent;\n",
              "      border-right-color: var(--fill-color);\n",
              "    }\n",
              "    80% {\n",
              "      border-color: transparent;\n",
              "      border-right-color: var(--fill-color);\n",
              "      border-bottom-color: var(--fill-color);\n",
              "    }\n",
              "    90% {\n",
              "      border-color: transparent;\n",
              "      border-bottom-color: var(--fill-color);\n",
              "    }\n",
              "  }\n",
              "</style>\n",
              "\n",
              "  <script>\n",
              "    async function quickchart(key) {\n",
              "      const quickchartButtonEl =\n",
              "        document.querySelector('#' + key + ' button');\n",
              "      quickchartButtonEl.disabled = true;  // To prevent multiple clicks.\n",
              "      quickchartButtonEl.classList.add('colab-df-spinner');\n",
              "      try {\n",
              "        const charts = await google.colab.kernel.invokeFunction(\n",
              "            'suggestCharts', [key], {});\n",
              "      } catch (error) {\n",
              "        console.error('Error during call to suggestCharts:', error);\n",
              "      }\n",
              "      quickchartButtonEl.classList.remove('colab-df-spinner');\n",
              "      quickchartButtonEl.classList.add('colab-df-quickchart-complete');\n",
              "    }\n",
              "    (() => {\n",
              "      let quickchartButtonEl =\n",
              "        document.querySelector('#df-2bb81144-c75f-45c8-8c14-9691a0533d38 button');\n",
              "      quickchartButtonEl.style.display =\n",
              "        google.colab.kernel.accessAllowed ? 'block' : 'none';\n",
              "    })();\n",
              "  </script>\n",
              "</div>\n",
              "\n",
              "    </div>\n",
              "  </div>\n"
            ],
            "application/vnd.google.colaboratory.intrinsic+json": {
              "type": "dataframe",
              "variable_name": "data",
              "summary": "{\n  \"name\": \"data\",\n  \"rows\": 21,\n  \"fields\": [\n    {\n      \"column\": \"text\",\n      \"properties\": {\n        \"dtype\": \"string\",\n        \"num_unique_values\": 21,\n        \"samples\": [\n          \"Ah, notes, yes, a vital part of my life, I must say. I tend to be more of a digital note-taker these days. I\\u2019ve tried paper notebooks, but they often end up lost or filled with random scribbles. I find the search functionality of digital notes so helpful. I\\u2019ve even color-coded them to try and stay organized! And finally, for my fifth suggestion, having a collaborative feature would be amazing, especially when I'm working with others on projects; being able to share notes or work together directly within the app would be incredibly useful. Lastly, and this is a big one for me, it would be great if it loaded a bit faster. I\\u2019m always in a hurry, and it does take a couple of seconds, which can feel like forever when you\\u2019re waiting.\",\n          \"Let's see here, while there are many different teams in our business, if I had to pin down one single place I predominantly function it would definitely be the Engineering team; I often interact with both Marketing and Customer Support departments, but I rarely, if ever, find myself involved in any Other areas. Oh, this is easy, the people for the follow up, absolutely has to be Stephan Maier, followed by Marisa Peng, no question about that. Then you also want to be sure that Sandro Kalter, Jens Roschmann, and Sean Kennin get a copy too, right? You know, it's funny, we find ourselves always leaning on the application mainly for Task management, since that really streamlines all of our day-to-day activities, and then we also rely heavily on the Project tracking to make sure everything is on schedule, and of course, we can't forget about the Reporting aspects, because, let's be honest, who doesn't like a good solid report to track how well things are moving?\",\n          \"I'm afraid I can't really choose any of the pre-selected ones, as my intention today is quite unique, so I must select 'Other' as the best way to put it \\\"Okay, I understand, it's definitely important to keep in touch about these things. You can reach me at +1-966-665-6428. Let me know if there\\u2019s anything else you require!\\\" For the trade fair team, you know, their numbers are consistently upwards of 40, so we can definitely say it's more than 40 on average.\"\n        ],\n        \"semantic_type\": \"\",\n        \"description\": \"\"\n      }\n    },\n    {\n      \"column\": \"questions\",\n      \"properties\": {\n        \"dtype\": \"object\",\n        \"semantic_type\": \"\",\n        \"description\": \"\"\n      }\n    }\n  ]\n}"
            }
          },
          "metadata": {},
          "execution_count": 26
        }
      ]
    },
    {
      "cell_type": "code",
      "source": [
        "# # Use a pipeline as a high-level helper\n",
        "# from transformers import pipeline\n",
        "\n",
        "# pipe = pipeline(\"summarization\", model=\"facebook/bart-large-cnn\")"
      ],
      "metadata": {
        "colab": {
          "base_uri": "https://localhost:8080/"
        },
        "id": "q9C9OWmHNJBZ",
        "outputId": "8a8e971f-1dc3-4126-d346-dc68a31556ee"
      },
      "execution_count": null,
      "outputs": [
        {
          "output_type": "stream",
          "name": "stderr",
          "text": [
            "Device set to use cpu\n"
          ]
        }
      ]
    },
    {
      "cell_type": "code",
      "source": [
        "# def summarize_text(text):\n",
        "#     summary = pipe(text, max_length=80, min_length=30, do_sample=False)[0]['summary_text']\n",
        "#     return summary"
      ],
      "metadata": {
        "id": "7CApzycEOekt"
      },
      "execution_count": null,
      "outputs": []
    },
    {
      "cell_type": "code",
      "source": [
        "# data[\"text\"] = data['text'].apply(summarize_text)"
      ],
      "metadata": {
        "id": "YfUwFkVzM73B"
      },
      "execution_count": null,
      "outputs": []
    },
    {
      "cell_type": "code",
      "source": [
        "# data.head()"
      ],
      "metadata": {
        "colab": {
          "base_uri": "https://localhost:8080/",
          "height": 204
        },
        "id": "A4Wm0izXNQzs",
        "outputId": "3d178b27-1f00-4d6b-c709-14b4e936fc9f"
      },
      "execution_count": null,
      "outputs": [
        {
          "output_type": "execute_result",
          "data": {
            "text/plain": [
              "                                                text  \\\n",
              "0  Having a collaborative feature would be amazin...   \n",
              "1  I find it so difficult to see the bigger pictu...   \n",
              "2  Customer satisfaction, you say? In my case, th...   \n",
              "3  Having it done by the start of next year would...   \n",
              "4  A better integration with my other business to...   \n",
              "\n",
              "                                           questions  \n",
              "0  [{'question': 'Notes', 'intended_answer': None...  \n",
              "1  [{'question': 'What specific challenges are yo...  \n",
              "2  [{'question': 'Which of the following best des...  \n",
              "3  [{'question': 'CRM-System', 'intended_answer':...  \n",
              "4  [{'question': 'What phone number can we use fo...  "
            ],
            "text/html": [
              "\n",
              "  <div id=\"df-5fb09aa7-af54-4c3f-b619-9933d7ee15ab\" class=\"colab-df-container\">\n",
              "    <div>\n",
              "<style scoped>\n",
              "    .dataframe tbody tr th:only-of-type {\n",
              "        vertical-align: middle;\n",
              "    }\n",
              "\n",
              "    .dataframe tbody tr th {\n",
              "        vertical-align: top;\n",
              "    }\n",
              "\n",
              "    .dataframe thead th {\n",
              "        text-align: right;\n",
              "    }\n",
              "</style>\n",
              "<table border=\"1\" class=\"dataframe\">\n",
              "  <thead>\n",
              "    <tr style=\"text-align: right;\">\n",
              "      <th></th>\n",
              "      <th>text</th>\n",
              "      <th>questions</th>\n",
              "    </tr>\n",
              "  </thead>\n",
              "  <tbody>\n",
              "    <tr>\n",
              "      <th>0</th>\n",
              "      <td>Having a collaborative feature would be amazin...</td>\n",
              "      <td>[{'question': 'Notes', 'intended_answer': None...</td>\n",
              "    </tr>\n",
              "    <tr>\n",
              "      <th>1</th>\n",
              "      <td>I find it so difficult to see the bigger pictu...</td>\n",
              "      <td>[{'question': 'What specific challenges are yo...</td>\n",
              "    </tr>\n",
              "    <tr>\n",
              "      <th>2</th>\n",
              "      <td>Customer satisfaction, you say? In my case, th...</td>\n",
              "      <td>[{'question': 'Which of the following best des...</td>\n",
              "    </tr>\n",
              "    <tr>\n",
              "      <th>3</th>\n",
              "      <td>Having it done by the start of next year would...</td>\n",
              "      <td>[{'question': 'CRM-System', 'intended_answer':...</td>\n",
              "    </tr>\n",
              "    <tr>\n",
              "      <th>4</th>\n",
              "      <td>A better integration with my other business to...</td>\n",
              "      <td>[{'question': 'What phone number can we use fo...</td>\n",
              "    </tr>\n",
              "  </tbody>\n",
              "</table>\n",
              "</div>\n",
              "    <div class=\"colab-df-buttons\">\n",
              "\n",
              "  <div class=\"colab-df-container\">\n",
              "    <button class=\"colab-df-convert\" onclick=\"convertToInteractive('df-5fb09aa7-af54-4c3f-b619-9933d7ee15ab')\"\n",
              "            title=\"Convert this dataframe to an interactive table.\"\n",
              "            style=\"display:none;\">\n",
              "\n",
              "  <svg xmlns=\"http://www.w3.org/2000/svg\" height=\"24px\" viewBox=\"0 -960 960 960\">\n",
              "    <path d=\"M120-120v-720h720v720H120Zm60-500h600v-160H180v160Zm220 220h160v-160H400v160Zm0 220h160v-160H400v160ZM180-400h160v-160H180v160Zm440 0h160v-160H620v160ZM180-180h160v-160H180v160Zm440 0h160v-160H620v160Z\"/>\n",
              "  </svg>\n",
              "    </button>\n",
              "\n",
              "  <style>\n",
              "    .colab-df-container {\n",
              "      display:flex;\n",
              "      gap: 12px;\n",
              "    }\n",
              "\n",
              "    .colab-df-convert {\n",
              "      background-color: #E8F0FE;\n",
              "      border: none;\n",
              "      border-radius: 50%;\n",
              "      cursor: pointer;\n",
              "      display: none;\n",
              "      fill: #1967D2;\n",
              "      height: 32px;\n",
              "      padding: 0 0 0 0;\n",
              "      width: 32px;\n",
              "    }\n",
              "\n",
              "    .colab-df-convert:hover {\n",
              "      background-color: #E2EBFA;\n",
              "      box-shadow: 0px 1px 2px rgba(60, 64, 67, 0.3), 0px 1px 3px 1px rgba(60, 64, 67, 0.15);\n",
              "      fill: #174EA6;\n",
              "    }\n",
              "\n",
              "    .colab-df-buttons div {\n",
              "      margin-bottom: 4px;\n",
              "    }\n",
              "\n",
              "    [theme=dark] .colab-df-convert {\n",
              "      background-color: #3B4455;\n",
              "      fill: #D2E3FC;\n",
              "    }\n",
              "\n",
              "    [theme=dark] .colab-df-convert:hover {\n",
              "      background-color: #434B5C;\n",
              "      box-shadow: 0px 1px 3px 1px rgba(0, 0, 0, 0.15);\n",
              "      filter: drop-shadow(0px 1px 2px rgba(0, 0, 0, 0.3));\n",
              "      fill: #FFFFFF;\n",
              "    }\n",
              "  </style>\n",
              "\n",
              "    <script>\n",
              "      const buttonEl =\n",
              "        document.querySelector('#df-5fb09aa7-af54-4c3f-b619-9933d7ee15ab button.colab-df-convert');\n",
              "      buttonEl.style.display =\n",
              "        google.colab.kernel.accessAllowed ? 'block' : 'none';\n",
              "\n",
              "      async function convertToInteractive(key) {\n",
              "        const element = document.querySelector('#df-5fb09aa7-af54-4c3f-b619-9933d7ee15ab');\n",
              "        const dataTable =\n",
              "          await google.colab.kernel.invokeFunction('convertToInteractive',\n",
              "                                                    [key], {});\n",
              "        if (!dataTable) return;\n",
              "\n",
              "        const docLinkHtml = 'Like what you see? Visit the ' +\n",
              "          '<a target=\"_blank\" href=https://colab.research.google.com/notebooks/data_table.ipynb>data table notebook</a>'\n",
              "          + ' to learn more about interactive tables.';\n",
              "        element.innerHTML = '';\n",
              "        dataTable['output_type'] = 'display_data';\n",
              "        await google.colab.output.renderOutput(dataTable, element);\n",
              "        const docLink = document.createElement('div');\n",
              "        docLink.innerHTML = docLinkHtml;\n",
              "        element.appendChild(docLink);\n",
              "      }\n",
              "    </script>\n",
              "  </div>\n",
              "\n",
              "\n",
              "<div id=\"df-c8a611f5-6832-4e00-9c44-a7d81d0aeb36\">\n",
              "  <button class=\"colab-df-quickchart\" onclick=\"quickchart('df-c8a611f5-6832-4e00-9c44-a7d81d0aeb36')\"\n",
              "            title=\"Suggest charts\"\n",
              "            style=\"display:none;\">\n",
              "\n",
              "<svg xmlns=\"http://www.w3.org/2000/svg\" height=\"24px\"viewBox=\"0 0 24 24\"\n",
              "     width=\"24px\">\n",
              "    <g>\n",
              "        <path d=\"M19 3H5c-1.1 0-2 .9-2 2v14c0 1.1.9 2 2 2h14c1.1 0 2-.9 2-2V5c0-1.1-.9-2-2-2zM9 17H7v-7h2v7zm4 0h-2V7h2v10zm4 0h-2v-4h2v4z\"/>\n",
              "    </g>\n",
              "</svg>\n",
              "  </button>\n",
              "\n",
              "<style>\n",
              "  .colab-df-quickchart {\n",
              "      --bg-color: #E8F0FE;\n",
              "      --fill-color: #1967D2;\n",
              "      --hover-bg-color: #E2EBFA;\n",
              "      --hover-fill-color: #174EA6;\n",
              "      --disabled-fill-color: #AAA;\n",
              "      --disabled-bg-color: #DDD;\n",
              "  }\n",
              "\n",
              "  [theme=dark] .colab-df-quickchart {\n",
              "      --bg-color: #3B4455;\n",
              "      --fill-color: #D2E3FC;\n",
              "      --hover-bg-color: #434B5C;\n",
              "      --hover-fill-color: #FFFFFF;\n",
              "      --disabled-bg-color: #3B4455;\n",
              "      --disabled-fill-color: #666;\n",
              "  }\n",
              "\n",
              "  .colab-df-quickchart {\n",
              "    background-color: var(--bg-color);\n",
              "    border: none;\n",
              "    border-radius: 50%;\n",
              "    cursor: pointer;\n",
              "    display: none;\n",
              "    fill: var(--fill-color);\n",
              "    height: 32px;\n",
              "    padding: 0;\n",
              "    width: 32px;\n",
              "  }\n",
              "\n",
              "  .colab-df-quickchart:hover {\n",
              "    background-color: var(--hover-bg-color);\n",
              "    box-shadow: 0 1px 2px rgba(60, 64, 67, 0.3), 0 1px 3px 1px rgba(60, 64, 67, 0.15);\n",
              "    fill: var(--button-hover-fill-color);\n",
              "  }\n",
              "\n",
              "  .colab-df-quickchart-complete:disabled,\n",
              "  .colab-df-quickchart-complete:disabled:hover {\n",
              "    background-color: var(--disabled-bg-color);\n",
              "    fill: var(--disabled-fill-color);\n",
              "    box-shadow: none;\n",
              "  }\n",
              "\n",
              "  .colab-df-spinner {\n",
              "    border: 2px solid var(--fill-color);\n",
              "    border-color: transparent;\n",
              "    border-bottom-color: var(--fill-color);\n",
              "    animation:\n",
              "      spin 1s steps(1) infinite;\n",
              "  }\n",
              "\n",
              "  @keyframes spin {\n",
              "    0% {\n",
              "      border-color: transparent;\n",
              "      border-bottom-color: var(--fill-color);\n",
              "      border-left-color: var(--fill-color);\n",
              "    }\n",
              "    20% {\n",
              "      border-color: transparent;\n",
              "      border-left-color: var(--fill-color);\n",
              "      border-top-color: var(--fill-color);\n",
              "    }\n",
              "    30% {\n",
              "      border-color: transparent;\n",
              "      border-left-color: var(--fill-color);\n",
              "      border-top-color: var(--fill-color);\n",
              "      border-right-color: var(--fill-color);\n",
              "    }\n",
              "    40% {\n",
              "      border-color: transparent;\n",
              "      border-right-color: var(--fill-color);\n",
              "      border-top-color: var(--fill-color);\n",
              "    }\n",
              "    60% {\n",
              "      border-color: transparent;\n",
              "      border-right-color: var(--fill-color);\n",
              "    }\n",
              "    80% {\n",
              "      border-color: transparent;\n",
              "      border-right-color: var(--fill-color);\n",
              "      border-bottom-color: var(--fill-color);\n",
              "    }\n",
              "    90% {\n",
              "      border-color: transparent;\n",
              "      border-bottom-color: var(--fill-color);\n",
              "    }\n",
              "  }\n",
              "</style>\n",
              "\n",
              "  <script>\n",
              "    async function quickchart(key) {\n",
              "      const quickchartButtonEl =\n",
              "        document.querySelector('#' + key + ' button');\n",
              "      quickchartButtonEl.disabled = true;  // To prevent multiple clicks.\n",
              "      quickchartButtonEl.classList.add('colab-df-spinner');\n",
              "      try {\n",
              "        const charts = await google.colab.kernel.invokeFunction(\n",
              "            'suggestCharts', [key], {});\n",
              "      } catch (error) {\n",
              "        console.error('Error during call to suggestCharts:', error);\n",
              "      }\n",
              "      quickchartButtonEl.classList.remove('colab-df-spinner');\n",
              "      quickchartButtonEl.classList.add('colab-df-quickchart-complete');\n",
              "    }\n",
              "    (() => {\n",
              "      let quickchartButtonEl =\n",
              "        document.querySelector('#df-c8a611f5-6832-4e00-9c44-a7d81d0aeb36 button');\n",
              "      quickchartButtonEl.style.display =\n",
              "        google.colab.kernel.accessAllowed ? 'block' : 'none';\n",
              "    })();\n",
              "  </script>\n",
              "</div>\n",
              "\n",
              "    </div>\n",
              "  </div>\n"
            ],
            "application/vnd.google.colaboratory.intrinsic+json": {
              "type": "dataframe",
              "variable_name": "data",
              "summary": "{\n  \"name\": \"data\",\n  \"rows\": 21,\n  \"fields\": [\n    {\n      \"column\": \"text\",\n      \"properties\": {\n        \"dtype\": \"string\",\n        \"num_unique_values\": 21,\n        \"samples\": [\n          \"Having a collaborative feature would be amazing, especially when working with others. Being able to share notes or work together directly within the app would be incredibly useful. It would be great if it loaded a bit faster.\",\n          \"If I had to pin down one single place I predominantly function it would definitely be the Engineering team. I often interact with both Marketing and Customer Support departments, but I rarely, if ever, find myself involved in any Other areas. We find ourselves always leaning on the application mainly for Task management.\",\n          \"\\\"I'm afraid I can't really choose any of the pre-selected ones, as my intention today is quite unique, so I must select 'Other' as the best way to put it,\\\" he says. \\\"You can reach me at +1-966-665-6428. Let me know if there\\u2019s anything else you require!\\\"\"\n        ],\n        \"semantic_type\": \"\",\n        \"description\": \"\"\n      }\n    },\n    {\n      \"column\": \"questions\",\n      \"properties\": {\n        \"dtype\": \"object\",\n        \"semantic_type\": \"\",\n        \"description\": \"\"\n      }\n    }\n  ]\n}"
            }
          },
          "metadata": {},
          "execution_count": 31
        }
      ]
    }
  ]
}